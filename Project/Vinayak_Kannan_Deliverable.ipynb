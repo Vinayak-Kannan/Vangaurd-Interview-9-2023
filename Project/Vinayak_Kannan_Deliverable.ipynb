{
 "cells": [
  {
   "cell_type": "markdown",
   "source": [
    "# Airbnb Listing Dataset Analysis\n",
    "### Author: Vinayak Kannan\n",
    "\n",
    "#### About Me:\n",
    "###### This notebook analyzes Airbnb listings data from the Bay Area. It focuses on providing an overview of the data, identifying a key problem to solve, and then solving said problem through modeling. The problem this notebook will focus on is trying to assist underperforming, yet highly reviewed, listings on Airbnb by creating a model that predicts 'traffic', using avg. number of reviews as proxy, and provides features which are important to said predictions.\n",
    "\n",
    "###### Organization:\n",
    "###### This notebook is broken up into several subsections\n",
    "- Unit Functions / Tests used throughout notebook\n",
    "- Reading data and printing summary statistics\n",
    "- Deep dive on review ratings vs # of ratings + selecting case candidate from dataset\n",
    "- Data preperation for modeling\n",
    "- Modeling without text columns + results\n",
    "- Modeling with text columns + results"
   ],
   "metadata": {
    "collapsed": false
   },
   "id": "bb2bd91d5492a704"
  },
  {
   "cell_type": "markdown",
   "source": [
    "### Import packages"
   ],
   "metadata": {
    "collapsed": false
   },
   "id": "6916e0f601483242"
  },
  {
   "cell_type": "code",
   "execution_count": 73,
   "outputs": [],
   "source": [
    "import warnings\n",
    "warnings.filterwarnings('ignore')\n",
    "from sklearn.preprocessing import StandardScaler\n",
    "import seaborn as sns\n",
    "from sklearn.decomposition import PCA\n",
    "import openai\n",
    "from openai.embeddings_utils import get_embedding\n",
    "import numpy as np\n",
    "from sklearn.model_selection import cross_validate, KFold, train_test_split\n",
    "from sklearn.linear_model import LinearRegression\n",
    "import xgboost as xgb\n",
    "from sklearn.linear_model import Lasso\n",
    "from sklearn.model_selection import GridSearchCV\n",
    "from sklearn.metrics import mean_squared_error, r2_score\n",
    "from pandas import DataFrame\n",
    "import unittest\n",
    "from unittest.mock import patch\n",
    "from io import StringIO"
   ],
   "metadata": {
    "collapsed": false,
    "ExecuteTime": {
     "end_time": "2023-09-25T14:36:08.412162Z",
     "start_time": "2023-09-25T14:36:08.390469Z"
    }
   },
   "id": "e26254ea1a6e78fc"
  },
  {
   "cell_type": "markdown",
   "source": [
    "### Unit functions / Tests\n",
    "These are unit functions / tests that will be used throughout the notebook"
   ],
   "metadata": {
    "collapsed": false
   },
   "id": "6e5559fce5c1e2ab"
  },
  {
   "cell_type": "code",
   "execution_count": 8,
   "outputs": [
    {
     "name": "stderr",
     "output_type": "stream",
     "text": [
      ".....\n",
      "----------------------------------------------------------------------\n",
      "Ran 5 tests in 0.023s\n",
      "\n",
      "OK\n"
     ]
    }
   ],
   "source": [
    "def print_null_count_per_column(df: DataFrame):\n",
    "    \"\"\"\n",
    "    Prints the number of null values in each column of a dataframe\n",
    "    Parameters\n",
    "    ----------\n",
    "    df : DataFrame\n",
    "        DataFrame to count nulls per column on\n",
    "    \"\"\"\n",
    "    null_counts = df.isnull().sum().sort_values(ascending=False)\n",
    "    print(null_counts)\n",
    "\n",
    "\n",
    "# Test case for print_null_count_per_column\n",
    "class TestPrintNullCountPerColumn(unittest.TestCase):\n",
    "    @patch('sys.stdout', new_callable=StringIO)\n",
    "    def test_print_null_count_per_column(self, mock_stdout):\n",
    "        # Create a sample DataFrame with null values\n",
    "        data = {'A': [1, 2, None, 4],\n",
    "                'B': [None, 2, 3, 4],\n",
    "                'C': [1, 2, 3, None]}\n",
    "        df = pd.DataFrame(data)\n",
    "\n",
    "        # Call the function with the sample DataFrame\n",
    "        print_null_count_per_column(df)\n",
    "\n",
    "        # Define the expected output\n",
    "        expected_output = \"A    1\\nB    1\\nC    1\\ndtype: int64\\n\"\n",
    "\n",
    "        # Check if the output matches the expected output\n",
    "        self.assertEqual(mock_stdout.getvalue(), expected_output)\n",
    "\n",
    "if __name__ == '__main__':\n",
    "    unittest.main(argv=[''], exit=False)"
   ],
   "metadata": {
    "collapsed": false,
    "ExecuteTime": {
     "end_time": "2023-09-25T13:18:07.333617Z",
     "start_time": "2023-09-25T13:18:07.307947Z"
    }
   },
   "id": "243e867568fd164c"
  },
  {
   "cell_type": "code",
   "execution_count": 9,
   "outputs": [
    {
     "name": "stderr",
     "output_type": "stream",
     "text": [
      ".....\n",
      "----------------------------------------------------------------------\n",
      "Ran 5 tests in 0.007s\n",
      "\n",
      "OK\n"
     ]
    }
   ],
   "source": [
    "import pandas as pd\n",
    "import unittest\n",
    "from pandas import DataFrame\n",
    "\n",
    "# Unit function 1: convert_columns_to_boolean\n",
    "def convert_columns_to_boolean(df: DataFrame, boolean_columns) -> DataFrame:\n",
    "    \"\"\"\n",
    "    Converts specified columns in a DataFrame to boolean values based on a mapping.\n",
    "    \n",
    "    Parameters\n",
    "    ----------\n",
    "    df : DataFrame\n",
    "        DataFrame containing columns to be converted to boolean values.\n",
    "    boolean_columns : String[]\n",
    "        Columns to convert to boolean type.\n",
    "        \n",
    "    Returns\n",
    "    -------\n",
    "    DataFrame\n",
    "        DataFrame with specified columns converted to boolean values.\n",
    "    \"\"\"\n",
    "\n",
    "    for column in boolean_columns:\n",
    "        df[column] = df[column].map({'f': False, 't': True})\n",
    "    return df\n",
    "\n",
    "# Unit function 2: replace_nan_with_mean\n",
    "def replace_nan_with_mean(df: DataFrame) -> DataFrame:\n",
    "    \"\"\"\n",
    "    Replaces NaN values in the host_response_rate column with the mean value for each host_id group.\n",
    "    \n",
    "    Parameters\n",
    "    ----------\n",
    "    df : DataFrame\n",
    "        DataFrame containing the host_response_rate column with NaN values.\n",
    "        \n",
    "    Returns\n",
    "    -------\n",
    "    DataFrame\n",
    "        DataFrame with NaN values in the host_response_rate column replaced with the mean value for each host_id group.\n",
    "    \"\"\"\n",
    "    df['host_response_rate'] = df.groupby('host_id')['host_response_rate'].transform(lambda x: x.fillna(x.mean()))\n",
    "    return df\n",
    "\n",
    "# Unit function 3: process_host_verifications_and_amenities\n",
    "def process_host_verifications_and_amenities(df: DataFrame) -> DataFrame:\n",
    "    \"\"\"\n",
    "    Processes host_verifications and amenities columns in a DataFrame.\n",
    "    \n",
    "    Parameters\n",
    "    ----------\n",
    "    df : DataFrame\n",
    "        DataFrame containing host_verifications and amenities columns.\n",
    "        \n",
    "    Returns\n",
    "    -------\n",
    "    DataFrame\n",
    "        DataFrame with processed host_verifications and amenities columns.\n",
    "    \"\"\"\n",
    "    df['host_verifications'] = df['host_verifications'].str.count(',') + 1\n",
    "    df['amenities'] = df['amenities'].str.count(',') + 1\n",
    "    return df\n",
    "\n",
    "# Unit function 4: process_price_columns\n",
    "def process_price_columns(df: DataFrame, price_columns) -> DataFrame:\n",
    "    \"\"\"\n",
    "    Processes price-related columns in a DataFrame by removing dollar signs and commas, and converting to float.\n",
    "    \n",
    "    Parameters\n",
    "    ----------\n",
    "    df : DataFrame\n",
    "        DataFrame containing price-related columns.\n",
    "    price_columns : String[]\n",
    "        Columns to convert into floats\n",
    "        \n",
    "    Returns\n",
    "    -------\n",
    "    DataFrame\n",
    "        DataFrame with processed price-related columns.\n",
    "    \"\"\"\n",
    "    for column in price_columns:\n",
    "        df[column] = df[column].str.replace('$', '').str.replace(',', '').astype('float')\n",
    "    return df\n",
    "\n",
    "# Test cases for each unit function\n",
    "class TestUnitFunctions(unittest.TestCase):\n",
    "    # Test case for convert_columns_to_boolean\n",
    "    def test_convert_columns_to_boolean(self):\n",
    "        # Create a sample DataFrame\n",
    "        data = {'host_is_superhost': ['t', 'f', 't'],\n",
    "                'host_has_profile_pic': ['t', 't', 'f']}\n",
    "        df = pd.DataFrame(data)\n",
    "\n",
    "        # Call the function with the sample DataFrame\n",
    "        result = convert_columns_to_boolean(df, ['host_is_superhost', 'host_has_profile_pic'])\n",
    "\n",
    "        # Define the expected output\n",
    "        expected_output = pd.DataFrame({'host_is_superhost': [True, False, True],\n",
    "                                         'host_has_profile_pic': [True, True, False]})\n",
    "\n",
    "        # Check if the output matches the expected output\n",
    "        pd.testing.assert_frame_equal(result, expected_output)\n",
    "\n",
    "    # Test case for replace_nan_with_mean\n",
    "    def test_replace_nan_with_mean(self):\n",
    "        # Create a sample DataFrame\n",
    "        data = {'host_id': [1, 1, 2, 2],\n",
    "                'host_response_rate': [100, None, 50, None]}\n",
    "        df = pd.DataFrame(data)\n",
    "\n",
    "        # Call the function with the sample DataFrame\n",
    "        result = replace_nan_with_mean(df)\n",
    "\n",
    "        # Define the expected output\n",
    "        expected_output = pd.DataFrame({'host_id': [1, 1, 2, 2],\n",
    "                                         'host_response_rate': [100, 100.0, 50, 50.0]})\n",
    "\n",
    "        # Check if the output matches the expected output\n",
    "        pd.testing.assert_frame_equal(result, expected_output)\n",
    "\n",
    "    # Test case for process_host_verifications_and_amenities\n",
    "    def test_process_host_verifications_and_amenities(self):\n",
    "        # Create a sample DataFrame\n",
    "        data = {'host_verifications': ['email,phone', 'email', 'phone,facebook'],\n",
    "                'amenities': ['TV,Wifi', 'Wifi', 'TV,Wifi,Kitchen']}\n",
    "        df = pd.DataFrame(data)\n",
    "\n",
    "        # Call the function with the sample DataFrame\n",
    "        result = process_host_verifications_and_amenities(df)\n",
    "\n",
    "        # Define the expected output\n",
    "        expected_output = pd.DataFrame({'host_verifications': [2, 1, 2],\n",
    "                                         'amenities': [2, 1, 3]})\n",
    "\n",
    "        # Check if the output matches the expected output\n",
    "        pd.testing.assert_frame_equal(result, expected_output)\n",
    "\n",
    "    # Test case for process_price_columns\n",
    "    def test_process_price_columns(self):\n",
    "        # Create a sample DataFrame\n",
    "        data = {'price': ['$100', '$200', '$300'],\n",
    "                'security_deposit': ['$150', '$250', '$350']}\n",
    "        df = pd.DataFrame(data)\n",
    "\n",
    "        # Call the function with the sample DataFrame\n",
    "        result = process_price_columns(df, ['price', 'security_deposit'])\n",
    "\n",
    "        # Define the expected output\n",
    "        expected_output = pd.DataFrame({'price': [100.0, 200.0, 300.0],\n",
    "                                         'security_deposit': [150.0, 250.0, 350.0]})\n",
    "\n",
    "        # Check if the output matches the expected output\n",
    "        pd.testing.assert_frame_equal(result, expected_output)\n",
    "\n",
    "if __name__ == '__main__':\n",
    "    unittest.main(argv=[''], exit=False)"
   ],
   "metadata": {
    "collapsed": false,
    "ExecuteTime": {
     "end_time": "2023-09-25T13:18:08.059716Z",
     "start_time": "2023-09-25T13:18:08.020901Z"
    }
   },
   "id": "79394720b24d36b4"
  },
  {
   "cell_type": "markdown",
   "source": [
    "### Read data"
   ],
   "metadata": {
    "collapsed": false
   },
   "id": "2064612d4dcd385c"
  },
  {
   "cell_type": "code",
   "execution_count": 55,
   "outputs": [],
   "source": [
    "listings = pd.read_csv('/Users/vinayakkannan/Desktop/Interviews/Vangaurd/Project/Data/Airbnb_Listings.csv')\n",
    "neighborhoods = pd.read_csv('/Users/vinayakkannan/Desktop/Interviews/Vangaurd/Project/Data/neighbourhoods.csv')\n",
    "reviews = pd.read_csv('/Users/vinayakkannan/Desktop/Interviews/Vangaurd/Project/Data/reviews.csv')"
   ],
   "metadata": {
    "collapsed": false,
    "ExecuteTime": {
     "end_time": "2023-09-25T14:04:43.533936Z",
     "start_time": "2023-09-25T14:04:43.247410Z"
    }
   },
   "id": "b4d2d08bc2d0020"
  },
  {
   "cell_type": "markdown",
   "source": [
    "### Print basic information about data"
   ],
   "metadata": {
    "collapsed": false
   },
   "id": "53ae9dad8bde0364"
  },
  {
   "cell_type": "code",
   "execution_count": 11,
   "outputs": [
    {
     "data": {
      "text/plain": "      id                         listing_url       scrape_id last_scraped  \\\n0   4952   https://www.airbnb.com/rooms/4952  20200530151957   2020-05-30   \n1  11464  https://www.airbnb.com/rooms/11464  20200530151957   2020-05-31   \n2  17884  https://www.airbnb.com/rooms/17884  20200530151957   2020-05-31   \n3  21373  https://www.airbnb.com/rooms/21373  20200530151957   2020-05-30   \n4  37512  https://www.airbnb.com/rooms/37512  20200530151957   2020-05-31   \n\n                                  name  \\\n0    Butterfly Inn - Graceful Living !   \n1    Deluxe Private Studio-custom int.   \n2                 Silicon Valley Suite   \n3  Bonsai Garden Inn in Professorville   \n4    Private  room - Parking 3 carport   \n\n                                             summary  \\\n0  Lovely garden setting in a serene and art-fill...   \n1  Custom built Studio with exquisite design. Rea...   \n2  A guest suite for one or two, in a house in a ...   \n3  Room  in gracious home with beautiful garden. ...   \n4  We live in a safe community close to public tr...   \n\n                                               space  \\\n0  Very comfortable Queen bed and small desk in b...   \n1  Description A favorite for international corpo...   \n2  This is a private suite at the rear of a house...   \n3  Bright, garden-facing room in beautiful home. ...   \n4  I have a really nice room in a quiet neighborh...   \n\n                                         description experiences_offered  \\\n0  Lovely garden setting in a serene and art-fill...                none   \n1  Custom built Studio with exquisite design. Rea...                none   \n2  A guest suite for one or two, in a house in a ...                none   \n3  Room  in gracious home with beautiful garden. ...                none   \n4  We live in a safe community close to public tr...                none   \n\n                               neighborhood_overview  ... instant_bookable  \\\n0  Located in Professorville, Palo Alto, one of t...  ...                f   \n1  10 min. to Lucky's and Starbucks at El Camino ...  ...                f   \n2  This is a very quiet family neighborhood, but ...  ...                f   \n3  This room is in an ultra convenient location i...  ...                f   \n4  Our community is a safe environment and at nig...  ...                f   \n\n  is_business_travel_ready          cancellation_policy  \\\n0                        f                     moderate   \n1                        f                     moderate   \n2                        f  strict_14_with_grace_period   \n3                        f                     moderate   \n4                        f                     moderate   \n\n  require_guest_profile_picture require_guest_phone_verification  \\\n0                             f                                f   \n1                             f                                t   \n2                             f                                f   \n3                             f                                f   \n4                             t                                t   \n\n   calculated_host_listings_count  \\\n0                               5   \n1                              12   \n2                               2   \n3                               5   \n4                               2   \n\n   calculated_host_listings_count_entire_homes  \\\n0                                            0   \n1                                           12   \n2                                            2   \n3                                            0   \n4                                            0   \n\n  calculated_host_listings_count_private_rooms  \\\n0                                            5   \n1                                            0   \n2                                            0   \n3                                            5   \n4                                            2   \n\n   calculated_host_listings_count_shared_rooms  reviews_per_month  \n0                                            0               0.57  \n1                                            0               0.08  \n2                                            0               0.11  \n3                                            0               2.17  \n4                                            0               1.53  \n\n[5 rows x 106 columns]",
      "text/html": "<div>\n<style scoped>\n    .dataframe tbody tr th:only-of-type {\n        vertical-align: middle;\n    }\n\n    .dataframe tbody tr th {\n        vertical-align: top;\n    }\n\n    .dataframe thead th {\n        text-align: right;\n    }\n</style>\n<table border=\"1\" class=\"dataframe\">\n  <thead>\n    <tr style=\"text-align: right;\">\n      <th></th>\n      <th>id</th>\n      <th>listing_url</th>\n      <th>scrape_id</th>\n      <th>last_scraped</th>\n      <th>name</th>\n      <th>summary</th>\n      <th>space</th>\n      <th>description</th>\n      <th>experiences_offered</th>\n      <th>neighborhood_overview</th>\n      <th>...</th>\n      <th>instant_bookable</th>\n      <th>is_business_travel_ready</th>\n      <th>cancellation_policy</th>\n      <th>require_guest_profile_picture</th>\n      <th>require_guest_phone_verification</th>\n      <th>calculated_host_listings_count</th>\n      <th>calculated_host_listings_count_entire_homes</th>\n      <th>calculated_host_listings_count_private_rooms</th>\n      <th>calculated_host_listings_count_shared_rooms</th>\n      <th>reviews_per_month</th>\n    </tr>\n  </thead>\n  <tbody>\n    <tr>\n      <th>0</th>\n      <td>4952</td>\n      <td>https://www.airbnb.com/rooms/4952</td>\n      <td>20200530151957</td>\n      <td>2020-05-30</td>\n      <td>Butterfly Inn - Graceful Living !</td>\n      <td>Lovely garden setting in a serene and art-fill...</td>\n      <td>Very comfortable Queen bed and small desk in b...</td>\n      <td>Lovely garden setting in a serene and art-fill...</td>\n      <td>none</td>\n      <td>Located in Professorville, Palo Alto, one of t...</td>\n      <td>...</td>\n      <td>f</td>\n      <td>f</td>\n      <td>moderate</td>\n      <td>f</td>\n      <td>f</td>\n      <td>5</td>\n      <td>0</td>\n      <td>5</td>\n      <td>0</td>\n      <td>0.57</td>\n    </tr>\n    <tr>\n      <th>1</th>\n      <td>11464</td>\n      <td>https://www.airbnb.com/rooms/11464</td>\n      <td>20200530151957</td>\n      <td>2020-05-31</td>\n      <td>Deluxe Private Studio-custom int.</td>\n      <td>Custom built Studio with exquisite design. Rea...</td>\n      <td>Description A favorite for international corpo...</td>\n      <td>Custom built Studio with exquisite design. Rea...</td>\n      <td>none</td>\n      <td>10 min. to Lucky's and Starbucks at El Camino ...</td>\n      <td>...</td>\n      <td>f</td>\n      <td>f</td>\n      <td>moderate</td>\n      <td>f</td>\n      <td>t</td>\n      <td>12</td>\n      <td>12</td>\n      <td>0</td>\n      <td>0</td>\n      <td>0.08</td>\n    </tr>\n    <tr>\n      <th>2</th>\n      <td>17884</td>\n      <td>https://www.airbnb.com/rooms/17884</td>\n      <td>20200530151957</td>\n      <td>2020-05-31</td>\n      <td>Silicon Valley Suite</td>\n      <td>A guest suite for one or two, in a house in a ...</td>\n      <td>This is a private suite at the rear of a house...</td>\n      <td>A guest suite for one or two, in a house in a ...</td>\n      <td>none</td>\n      <td>This is a very quiet family neighborhood, but ...</td>\n      <td>...</td>\n      <td>f</td>\n      <td>f</td>\n      <td>strict_14_with_grace_period</td>\n      <td>f</td>\n      <td>f</td>\n      <td>2</td>\n      <td>2</td>\n      <td>0</td>\n      <td>0</td>\n      <td>0.11</td>\n    </tr>\n    <tr>\n      <th>3</th>\n      <td>21373</td>\n      <td>https://www.airbnb.com/rooms/21373</td>\n      <td>20200530151957</td>\n      <td>2020-05-30</td>\n      <td>Bonsai Garden Inn in Professorville</td>\n      <td>Room  in gracious home with beautiful garden. ...</td>\n      <td>Bright, garden-facing room in beautiful home. ...</td>\n      <td>Room  in gracious home with beautiful garden. ...</td>\n      <td>none</td>\n      <td>This room is in an ultra convenient location i...</td>\n      <td>...</td>\n      <td>f</td>\n      <td>f</td>\n      <td>moderate</td>\n      <td>f</td>\n      <td>f</td>\n      <td>5</td>\n      <td>0</td>\n      <td>5</td>\n      <td>0</td>\n      <td>2.17</td>\n    </tr>\n    <tr>\n      <th>4</th>\n      <td>37512</td>\n      <td>https://www.airbnb.com/rooms/37512</td>\n      <td>20200530151957</td>\n      <td>2020-05-31</td>\n      <td>Private  room - Parking 3 carport</td>\n      <td>We live in a safe community close to public tr...</td>\n      <td>I have a really nice room in a quiet neighborh...</td>\n      <td>We live in a safe community close to public tr...</td>\n      <td>none</td>\n      <td>Our community is a safe environment and at nig...</td>\n      <td>...</td>\n      <td>f</td>\n      <td>f</td>\n      <td>moderate</td>\n      <td>t</td>\n      <td>t</td>\n      <td>2</td>\n      <td>0</td>\n      <td>2</td>\n      <td>0</td>\n      <td>1.53</td>\n    </tr>\n  </tbody>\n</table>\n<p>5 rows × 106 columns</p>\n</div>"
     },
     "execution_count": 11,
     "metadata": {},
     "output_type": "execute_result"
    }
   ],
   "source": [
    "listings.head()"
   ],
   "metadata": {
    "collapsed": false,
    "ExecuteTime": {
     "end_time": "2023-09-25T13:18:10.976651Z",
     "start_time": "2023-09-25T13:18:10.965529Z"
    }
   },
   "id": "32354b363a881702"
  },
  {
   "cell_type": "code",
   "execution_count": 12,
   "outputs": [
    {
     "data": {
      "text/plain": "                 id     scrape_id  thumbnail_url  medium_url  xl_picture_url  \\\ncount  7.221000e+03  7.221000e+03            0.0         0.0             0.0   \nmean   2.623922e+07  2.020053e+13            NaN         NaN             NaN   \nstd    1.236420e+07  0.000000e+00            NaN         NaN             NaN   \nmin    4.952000e+03  2.020053e+13            NaN         NaN             NaN   \n25%    1.624242e+07  2.020053e+13            NaN         NaN             NaN   \n50%    2.818432e+07  2.020053e+13            NaN         NaN             NaN   \n75%    3.749948e+07  2.020053e+13            NaN         NaN             NaN   \nmax    4.359134e+07  2.020053e+13            NaN         NaN             NaN   \n\n            host_id  host_listings_count  host_total_listings_count  \\\ncount  7.221000e+03          7220.000000                7220.000000   \nmean   8.886443e+07           139.588504                 139.588504   \nstd    9.390593e+07           472.674992                 472.674992   \nmin    7.054000e+03             0.000000                   0.000000   \n25%    1.697278e+07             1.000000                   1.000000   \n50%    4.800549e+07             3.000000                   3.000000   \n75%    1.429331e+08            10.000000                  10.000000   \nmax    3.477992e+08          2007.000000                2007.000000   \n\n       neighbourhood_group_cleansed     latitude  ...  review_scores_checkin  \\\ncount                           0.0  7221.000000  ...            5851.000000   \nmean                            NaN    37.352285  ...               9.815074   \nstd                             NaN     0.064819  ...               0.641301   \nmin                             NaN    36.965600  ...               2.000000   \n25%                             NaN    37.319770  ...              10.000000   \n50%                             NaN    37.358260  ...              10.000000   \n75%                             NaN    37.398250  ...              10.000000   \nmax                             NaN    37.462980  ...              10.000000   \n\n       review_scores_communication  review_scores_location  \\\ncount                  5852.000000             5851.000000   \nmean                      9.793233                9.796103   \nstd                       0.691503                0.583498   \nmin                       2.000000                2.000000   \n25%                      10.000000               10.000000   \n50%                      10.000000               10.000000   \n75%                      10.000000               10.000000   \nmax                      10.000000               10.000000   \n\n       review_scores_value  license  calculated_host_listings_count  \\\ncount          5851.000000      0.0                     7221.000000   \nmean              9.527773      NaN                       32.048608   \nstd               0.833306      NaN                       95.159193   \nmin               2.000000      NaN                        1.000000   \n25%               9.000000      NaN                        1.000000   \n50%              10.000000      NaN                        3.000000   \n75%              10.000000      NaN                        8.000000   \nmax              10.000000      NaN                      411.000000   \n\n       calculated_host_listings_count_entire_homes  \\\ncount                                  7221.000000   \nmean                                     28.216729   \nstd                                      95.714488   \nmin                                       0.000000   \n25%                                       0.000000   \n50%                                       1.000000   \n75%                                       2.000000   \nmax                                     411.000000   \n\n       calculated_host_listings_count_private_rooms  \\\ncount                                   7221.000000   \nmean                                       2.775793   \nstd                                        6.810433   \nmin                                        0.000000   \n25%                                        0.000000   \n50%                                        1.000000   \n75%                                        3.000000   \nmax                                       62.000000   \n\n       calculated_host_listings_count_shared_rooms  reviews_per_month  \ncount                                  7221.000000        5912.000000  \nmean                                      1.029359           1.357124  \nstd                                       5.741521           1.530782  \nmin                                       0.000000           0.010000  \n25%                                       0.000000           0.320000  \n50%                                       0.000000           0.830000  \n75%                                       0.000000           1.810000  \nmax                                      48.000000          13.120000  \n\n[8 rows x 44 columns]",
      "text/html": "<div>\n<style scoped>\n    .dataframe tbody tr th:only-of-type {\n        vertical-align: middle;\n    }\n\n    .dataframe tbody tr th {\n        vertical-align: top;\n    }\n\n    .dataframe thead th {\n        text-align: right;\n    }\n</style>\n<table border=\"1\" class=\"dataframe\">\n  <thead>\n    <tr style=\"text-align: right;\">\n      <th></th>\n      <th>id</th>\n      <th>scrape_id</th>\n      <th>thumbnail_url</th>\n      <th>medium_url</th>\n      <th>xl_picture_url</th>\n      <th>host_id</th>\n      <th>host_listings_count</th>\n      <th>host_total_listings_count</th>\n      <th>neighbourhood_group_cleansed</th>\n      <th>latitude</th>\n      <th>...</th>\n      <th>review_scores_checkin</th>\n      <th>review_scores_communication</th>\n      <th>review_scores_location</th>\n      <th>review_scores_value</th>\n      <th>license</th>\n      <th>calculated_host_listings_count</th>\n      <th>calculated_host_listings_count_entire_homes</th>\n      <th>calculated_host_listings_count_private_rooms</th>\n      <th>calculated_host_listings_count_shared_rooms</th>\n      <th>reviews_per_month</th>\n    </tr>\n  </thead>\n  <tbody>\n    <tr>\n      <th>count</th>\n      <td>7.221000e+03</td>\n      <td>7.221000e+03</td>\n      <td>0.0</td>\n      <td>0.0</td>\n      <td>0.0</td>\n      <td>7.221000e+03</td>\n      <td>7220.000000</td>\n      <td>7220.000000</td>\n      <td>0.0</td>\n      <td>7221.000000</td>\n      <td>...</td>\n      <td>5851.000000</td>\n      <td>5852.000000</td>\n      <td>5851.000000</td>\n      <td>5851.000000</td>\n      <td>0.0</td>\n      <td>7221.000000</td>\n      <td>7221.000000</td>\n      <td>7221.000000</td>\n      <td>7221.000000</td>\n      <td>5912.000000</td>\n    </tr>\n    <tr>\n      <th>mean</th>\n      <td>2.623922e+07</td>\n      <td>2.020053e+13</td>\n      <td>NaN</td>\n      <td>NaN</td>\n      <td>NaN</td>\n      <td>8.886443e+07</td>\n      <td>139.588504</td>\n      <td>139.588504</td>\n      <td>NaN</td>\n      <td>37.352285</td>\n      <td>...</td>\n      <td>9.815074</td>\n      <td>9.793233</td>\n      <td>9.796103</td>\n      <td>9.527773</td>\n      <td>NaN</td>\n      <td>32.048608</td>\n      <td>28.216729</td>\n      <td>2.775793</td>\n      <td>1.029359</td>\n      <td>1.357124</td>\n    </tr>\n    <tr>\n      <th>std</th>\n      <td>1.236420e+07</td>\n      <td>0.000000e+00</td>\n      <td>NaN</td>\n      <td>NaN</td>\n      <td>NaN</td>\n      <td>9.390593e+07</td>\n      <td>472.674992</td>\n      <td>472.674992</td>\n      <td>NaN</td>\n      <td>0.064819</td>\n      <td>...</td>\n      <td>0.641301</td>\n      <td>0.691503</td>\n      <td>0.583498</td>\n      <td>0.833306</td>\n      <td>NaN</td>\n      <td>95.159193</td>\n      <td>95.714488</td>\n      <td>6.810433</td>\n      <td>5.741521</td>\n      <td>1.530782</td>\n    </tr>\n    <tr>\n      <th>min</th>\n      <td>4.952000e+03</td>\n      <td>2.020053e+13</td>\n      <td>NaN</td>\n      <td>NaN</td>\n      <td>NaN</td>\n      <td>7.054000e+03</td>\n      <td>0.000000</td>\n      <td>0.000000</td>\n      <td>NaN</td>\n      <td>36.965600</td>\n      <td>...</td>\n      <td>2.000000</td>\n      <td>2.000000</td>\n      <td>2.000000</td>\n      <td>2.000000</td>\n      <td>NaN</td>\n      <td>1.000000</td>\n      <td>0.000000</td>\n      <td>0.000000</td>\n      <td>0.000000</td>\n      <td>0.010000</td>\n    </tr>\n    <tr>\n      <th>25%</th>\n      <td>1.624242e+07</td>\n      <td>2.020053e+13</td>\n      <td>NaN</td>\n      <td>NaN</td>\n      <td>NaN</td>\n      <td>1.697278e+07</td>\n      <td>1.000000</td>\n      <td>1.000000</td>\n      <td>NaN</td>\n      <td>37.319770</td>\n      <td>...</td>\n      <td>10.000000</td>\n      <td>10.000000</td>\n      <td>10.000000</td>\n      <td>9.000000</td>\n      <td>NaN</td>\n      <td>1.000000</td>\n      <td>0.000000</td>\n      <td>0.000000</td>\n      <td>0.000000</td>\n      <td>0.320000</td>\n    </tr>\n    <tr>\n      <th>50%</th>\n      <td>2.818432e+07</td>\n      <td>2.020053e+13</td>\n      <td>NaN</td>\n      <td>NaN</td>\n      <td>NaN</td>\n      <td>4.800549e+07</td>\n      <td>3.000000</td>\n      <td>3.000000</td>\n      <td>NaN</td>\n      <td>37.358260</td>\n      <td>...</td>\n      <td>10.000000</td>\n      <td>10.000000</td>\n      <td>10.000000</td>\n      <td>10.000000</td>\n      <td>NaN</td>\n      <td>3.000000</td>\n      <td>1.000000</td>\n      <td>1.000000</td>\n      <td>0.000000</td>\n      <td>0.830000</td>\n    </tr>\n    <tr>\n      <th>75%</th>\n      <td>3.749948e+07</td>\n      <td>2.020053e+13</td>\n      <td>NaN</td>\n      <td>NaN</td>\n      <td>NaN</td>\n      <td>1.429331e+08</td>\n      <td>10.000000</td>\n      <td>10.000000</td>\n      <td>NaN</td>\n      <td>37.398250</td>\n      <td>...</td>\n      <td>10.000000</td>\n      <td>10.000000</td>\n      <td>10.000000</td>\n      <td>10.000000</td>\n      <td>NaN</td>\n      <td>8.000000</td>\n      <td>2.000000</td>\n      <td>3.000000</td>\n      <td>0.000000</td>\n      <td>1.810000</td>\n    </tr>\n    <tr>\n      <th>max</th>\n      <td>4.359134e+07</td>\n      <td>2.020053e+13</td>\n      <td>NaN</td>\n      <td>NaN</td>\n      <td>NaN</td>\n      <td>3.477992e+08</td>\n      <td>2007.000000</td>\n      <td>2007.000000</td>\n      <td>NaN</td>\n      <td>37.462980</td>\n      <td>...</td>\n      <td>10.000000</td>\n      <td>10.000000</td>\n      <td>10.000000</td>\n      <td>10.000000</td>\n      <td>NaN</td>\n      <td>411.000000</td>\n      <td>411.000000</td>\n      <td>62.000000</td>\n      <td>48.000000</td>\n      <td>13.120000</td>\n    </tr>\n  </tbody>\n</table>\n<p>8 rows × 44 columns</p>\n</div>"
     },
     "execution_count": 12,
     "metadata": {},
     "output_type": "execute_result"
    }
   ],
   "source": [
    "listings.describe()"
   ],
   "metadata": {
    "collapsed": false,
    "ExecuteTime": {
     "end_time": "2023-09-25T13:18:11.436788Z",
     "start_time": "2023-09-25T13:18:11.396195Z"
    }
   },
   "id": "4c123de94c7acd8f"
  },
  {
   "cell_type": "code",
   "execution_count": 13,
   "outputs": [
    {
     "name": "stdout",
     "output_type": "stream",
     "text": [
      "neighbourhood_group_cleansed    7221\n",
      "license                         7221\n",
      "xl_picture_url                  7221\n",
      "medium_url                      7221\n",
      "thumbnail_url                   7221\n",
      "                                ... \n",
      "minimum_minimum_nights             0\n",
      "maximum_minimum_nights             0\n",
      "minimum_maximum_nights             0\n",
      "maximum_maximum_nights             0\n",
      "accommodates                       0\n",
      "Length: 106, dtype: int64\n"
     ]
    }
   ],
   "source": [
    "print_null_count_per_column(listings)"
   ],
   "metadata": {
    "collapsed": false,
    "ExecuteTime": {
     "end_time": "2023-09-25T13:18:12.095260Z",
     "start_time": "2023-09-25T13:18:12.046388Z"
    }
   },
   "id": "cf038743adb74edc"
  },
  {
   "cell_type": "code",
   "execution_count": 14,
   "outputs": [
    {
     "data": {
      "text/plain": "   neighbourhood_group    neighbourhood\n0                  NaN         Campbell\n1                  NaN        Cupertino\n2                  NaN           Gilroy\n3                  NaN        Los Altos\n4                  NaN  Los Altos Hills",
      "text/html": "<div>\n<style scoped>\n    .dataframe tbody tr th:only-of-type {\n        vertical-align: middle;\n    }\n\n    .dataframe tbody tr th {\n        vertical-align: top;\n    }\n\n    .dataframe thead th {\n        text-align: right;\n    }\n</style>\n<table border=\"1\" class=\"dataframe\">\n  <thead>\n    <tr style=\"text-align: right;\">\n      <th></th>\n      <th>neighbourhood_group</th>\n      <th>neighbourhood</th>\n    </tr>\n  </thead>\n  <tbody>\n    <tr>\n      <th>0</th>\n      <td>NaN</td>\n      <td>Campbell</td>\n    </tr>\n    <tr>\n      <th>1</th>\n      <td>NaN</td>\n      <td>Cupertino</td>\n    </tr>\n    <tr>\n      <th>2</th>\n      <td>NaN</td>\n      <td>Gilroy</td>\n    </tr>\n    <tr>\n      <th>3</th>\n      <td>NaN</td>\n      <td>Los Altos</td>\n    </tr>\n    <tr>\n      <th>4</th>\n      <td>NaN</td>\n      <td>Los Altos Hills</td>\n    </tr>\n  </tbody>\n</table>\n</div>"
     },
     "execution_count": 14,
     "metadata": {},
     "output_type": "execute_result"
    }
   ],
   "source": [
    "neighborhoods.head()"
   ],
   "metadata": {
    "collapsed": false,
    "ExecuteTime": {
     "end_time": "2023-09-25T13:18:12.527868Z",
     "start_time": "2023-09-25T13:18:12.508790Z"
    }
   },
   "id": "c111f272a34d9e99"
  },
  {
   "cell_type": "code",
   "execution_count": 15,
   "outputs": [
    {
     "data": {
      "text/plain": "       neighbourhood_group\ncount                  0.0\nmean                   NaN\nstd                    NaN\nmin                    NaN\n25%                    NaN\n50%                    NaN\n75%                    NaN\nmax                    NaN",
      "text/html": "<div>\n<style scoped>\n    .dataframe tbody tr th:only-of-type {\n        vertical-align: middle;\n    }\n\n    .dataframe tbody tr th {\n        vertical-align: top;\n    }\n\n    .dataframe thead th {\n        text-align: right;\n    }\n</style>\n<table border=\"1\" class=\"dataframe\">\n  <thead>\n    <tr style=\"text-align: right;\">\n      <th></th>\n      <th>neighbourhood_group</th>\n    </tr>\n  </thead>\n  <tbody>\n    <tr>\n      <th>count</th>\n      <td>0.0</td>\n    </tr>\n    <tr>\n      <th>mean</th>\n      <td>NaN</td>\n    </tr>\n    <tr>\n      <th>std</th>\n      <td>NaN</td>\n    </tr>\n    <tr>\n      <th>min</th>\n      <td>NaN</td>\n    </tr>\n    <tr>\n      <th>25%</th>\n      <td>NaN</td>\n    </tr>\n    <tr>\n      <th>50%</th>\n      <td>NaN</td>\n    </tr>\n    <tr>\n      <th>75%</th>\n      <td>NaN</td>\n    </tr>\n    <tr>\n      <th>max</th>\n      <td>NaN</td>\n    </tr>\n  </tbody>\n</table>\n</div>"
     },
     "execution_count": 15,
     "metadata": {},
     "output_type": "execute_result"
    }
   ],
   "source": [
    "neighborhoods.describe()"
   ],
   "metadata": {
    "collapsed": false,
    "ExecuteTime": {
     "end_time": "2023-09-25T13:18:13.050199Z",
     "start_time": "2023-09-25T13:18:13.030035Z"
    }
   },
   "id": "592193dfd5c3698b"
  },
  {
   "cell_type": "code",
   "execution_count": 16,
   "outputs": [
    {
     "name": "stdout",
     "output_type": "stream",
     "text": [
      "neighbourhood_group    16\n",
      "neighbourhood           0\n",
      "dtype: int64\n"
     ]
    }
   ],
   "source": [
    "print_null_count_per_column(neighborhoods)"
   ],
   "metadata": {
    "collapsed": false,
    "ExecuteTime": {
     "end_time": "2023-09-25T13:18:13.462891Z",
     "start_time": "2023-09-25T13:18:13.451364Z"
    }
   },
   "id": "20a6b659469181b0"
  },
  {
   "cell_type": "code",
   "execution_count": 17,
   "outputs": [
    {
     "data": {
      "text/plain": "   listing_id        date\n0        4952  2009-08-02\n1        4952  2009-09-04\n2        4952  2009-10-16\n3        4952  2009-12-10\n4        4952  2010-06-08",
      "text/html": "<div>\n<style scoped>\n    .dataframe tbody tr th:only-of-type {\n        vertical-align: middle;\n    }\n\n    .dataframe tbody tr th {\n        vertical-align: top;\n    }\n\n    .dataframe thead th {\n        text-align: right;\n    }\n</style>\n<table border=\"1\" class=\"dataframe\">\n  <thead>\n    <tr style=\"text-align: right;\">\n      <th></th>\n      <th>listing_id</th>\n      <th>date</th>\n    </tr>\n  </thead>\n  <tbody>\n    <tr>\n      <th>0</th>\n      <td>4952</td>\n      <td>2009-08-02</td>\n    </tr>\n    <tr>\n      <th>1</th>\n      <td>4952</td>\n      <td>2009-09-04</td>\n    </tr>\n    <tr>\n      <th>2</th>\n      <td>4952</td>\n      <td>2009-10-16</td>\n    </tr>\n    <tr>\n      <th>3</th>\n      <td>4952</td>\n      <td>2009-12-10</td>\n    </tr>\n    <tr>\n      <th>4</th>\n      <td>4952</td>\n      <td>2010-06-08</td>\n    </tr>\n  </tbody>\n</table>\n</div>"
     },
     "execution_count": 17,
     "metadata": {},
     "output_type": "execute_result"
    }
   ],
   "source": [
    "reviews.head()"
   ],
   "metadata": {
    "collapsed": false,
    "ExecuteTime": {
     "end_time": "2023-09-25T13:18:14.063539Z",
     "start_time": "2023-09-25T13:18:14.041831Z"
    }
   },
   "id": "14a08c35d7185618"
  },
  {
   "cell_type": "code",
   "execution_count": 18,
   "outputs": [
    {
     "data": {
      "text/plain": "         listing_id\ncount  2.125130e+05\nmean   1.736578e+07\nstd    1.046594e+07\nmin    4.952000e+03\n25%    8.974435e+06\n50%    1.672722e+07\n75%    2.452504e+07\nmax    4.365210e+07",
      "text/html": "<div>\n<style scoped>\n    .dataframe tbody tr th:only-of-type {\n        vertical-align: middle;\n    }\n\n    .dataframe tbody tr th {\n        vertical-align: top;\n    }\n\n    .dataframe thead th {\n        text-align: right;\n    }\n</style>\n<table border=\"1\" class=\"dataframe\">\n  <thead>\n    <tr style=\"text-align: right;\">\n      <th></th>\n      <th>listing_id</th>\n    </tr>\n  </thead>\n  <tbody>\n    <tr>\n      <th>count</th>\n      <td>2.125130e+05</td>\n    </tr>\n    <tr>\n      <th>mean</th>\n      <td>1.736578e+07</td>\n    </tr>\n    <tr>\n      <th>std</th>\n      <td>1.046594e+07</td>\n    </tr>\n    <tr>\n      <th>min</th>\n      <td>4.952000e+03</td>\n    </tr>\n    <tr>\n      <th>25%</th>\n      <td>8.974435e+06</td>\n    </tr>\n    <tr>\n      <th>50%</th>\n      <td>1.672722e+07</td>\n    </tr>\n    <tr>\n      <th>75%</th>\n      <td>2.452504e+07</td>\n    </tr>\n    <tr>\n      <th>max</th>\n      <td>4.365210e+07</td>\n    </tr>\n  </tbody>\n</table>\n</div>"
     },
     "execution_count": 18,
     "metadata": {},
     "output_type": "execute_result"
    }
   ],
   "source": [
    "reviews.describe()"
   ],
   "metadata": {
    "collapsed": false,
    "ExecuteTime": {
     "end_time": "2023-09-25T13:18:14.639368Z",
     "start_time": "2023-09-25T13:18:14.581730Z"
    }
   },
   "id": "f42b75485e031cd0"
  },
  {
   "cell_type": "code",
   "execution_count": 19,
   "outputs": [
    {
     "name": "stdout",
     "output_type": "stream",
     "text": [
      "listing_id    0\n",
      "date          0\n",
      "dtype: int64\n"
     ]
    }
   ],
   "source": [
    "print_null_count_per_column(reviews)"
   ],
   "metadata": {
    "collapsed": false,
    "ExecuteTime": {
     "end_time": "2023-09-25T13:18:15.516038Z",
     "start_time": "2023-09-25T13:18:15.503861Z"
    }
   },
   "id": "5e0ef5cdaab7236a"
  },
  {
   "cell_type": "markdown",
   "source": [
    "### Deep Dive on Reviews vs # of Ratings\n",
    "This portion of the notebook focuses on analyzing the relationship between the number of reviews (a proxy for traffic) and the review score rating. It also prints a subsection of the dataset so a case candidate from the dataset can be selected to focus on in the relevant powerpoint presentation for this analysis. This section compares the two metrics normalized and without normalization"
   ],
   "metadata": {
    "collapsed": false
   },
   "id": "a9860bf978f1c0da"
  },
  {
   "cell_type": "code",
   "execution_count": 56,
   "outputs": [
    {
     "data": {
      "text/plain": "<Axes: xlabel='review_scores_rating', ylabel='reviews_per_month'>"
     },
     "execution_count": 56,
     "metadata": {},
     "output_type": "execute_result"
    },
    {
     "data": {
      "text/plain": "<Figure size 640x480 with 1 Axes>",
      "image/png": "[encoded data removed]"
     },
     "metadata": {},
     "output_type": "display_data"
    }
   ],
   "source": [
    "listings_cleaned_ratings_reviews = listings[listings['reviews_per_month'].notnull()]\n",
    "sns.scatterplot(x='review_scores_rating', y='reviews_per_month', data=listings_cleaned_ratings_reviews)"
   ],
   "metadata": {
    "collapsed": false,
    "ExecuteTime": {
     "end_time": "2023-09-25T14:04:51.991245Z",
     "start_time": "2023-09-25T14:04:51.829020Z"
    }
   },
   "id": "8fc448a476517014"
  },
  {
   "cell_type": "code",
   "execution_count": 58,
   "outputs": [
    {
     "data": {
      "text/plain": "<Axes: xlabel='review_scores_rating', ylabel='reviews_per_month'>"
     },
     "execution_count": 58,
     "metadata": {},
     "output_type": "execute_result"
    },
    {
     "data": {
      "text/plain": "<Figure size 640x480 with 1 Axes>",
      "image/png": "[encoded data removed]"
     },
     "metadata": {},
     "output_type": "display_data"
    }
   ],
   "source": [
    "normalized_listings_cleaned_ratings_reviews = listings_cleaned_ratings_reviews.copy(deep=True)\n",
    "# Filter normalized_listings_cleaned_ratings_reviews to just reviews_per_month and review_scores_rating\n",
    "normalized_listings_cleaned_ratings_reviews = normalized_listings_cleaned_ratings_reviews[['reviews_per_month', 'review_scores_rating']]\n",
    "# Normalize each column in the DataFrame using scikit-learn\n",
    "scaler = StandardScaler()\n",
    "for col in normalized_listings_cleaned_ratings_reviews.columns:\n",
    "    normalized_listings_cleaned_ratings_reviews[col] = scaler.fit_transform(normalized_listings_cleaned_ratings_reviews[[col]])\n",
    "    \n",
    "normalized_listings_cleaned_ratings_reviews = normalized_listings_cleaned_ratings_reviews[normalized_listings_cleaned_ratings_reviews['review_scores_rating'] > -1]\n",
    "normalized_listings_cleaned_ratings_reviews = normalized_listings_cleaned_ratings_reviews[normalized_listings_cleaned_ratings_reviews['review_scores_rating'] < 1]\n",
    "normalized_listings_cleaned_ratings_reviews = normalized_listings_cleaned_ratings_reviews[normalized_listings_cleaned_ratings_reviews['reviews_per_month'] < 1]\n",
    "normalized_listings_cleaned_ratings_reviews = normalized_listings_cleaned_ratings_reviews[normalized_listings_cleaned_ratings_reviews['reviews_per_month'] > -1]\n",
    "\n",
    "sns.scatterplot(x='review_scores_rating', y='reviews_per_month', data=normalized_listings_cleaned_ratings_reviews)"
   ],
   "metadata": {
    "collapsed": false,
    "ExecuteTime": {
     "end_time": "2023-09-25T14:06:54.334008Z",
     "start_time": "2023-09-25T14:06:54.157494Z"
    }
   },
   "id": "e0fca8dce3097673"
  },
  {
   "cell_type": "markdown",
   "source": [
    "### Data Cleaning to prepare for model\n",
    "In this portion of the notebook, feature selection, data cleaning / imputation, and text embeddings are created to prepare the data for modeling. Utility functions are used here for testability / readability.\n",
    "\n",
    "Note that the text embeddings come from a pre-saved file, as generating the text embeddings and running PCA is somewhat time intensive."
   ],
   "metadata": {
    "collapsed": false
   },
   "id": "4d6a370530de8414"
  },
  {
   "cell_type": "code",
   "execution_count": 23,
   "outputs": [
    {
     "name": "stdout",
     "output_type": "stream",
     "text": [
      "0 id\n",
      "1 listing_url\n",
      "2 scrape_id\n",
      "3 last_scraped\n",
      "4 name\n",
      "5 summary\n",
      "6 space\n",
      "7 description\n",
      "8 experiences_offered\n",
      "9 neighborhood_overview\n",
      "10 notes\n",
      "11 transit\n",
      "12 access\n",
      "13 interaction\n",
      "14 house_rules\n",
      "15 thumbnail_url\n",
      "16 medium_url\n",
      "17 picture_url\n",
      "18 xl_picture_url\n",
      "19 host_id\n",
      "20 host_url\n",
      "21 host_name\n",
      "22 host_since\n",
      "23 host_location\n",
      "24 host_about\n",
      "25 host_response_time\n",
      "26 host_response_rate\n",
      "27 host_acceptance_rate\n",
      "28 host_is_superhost\n",
      "29 host_thumbnail_url\n",
      "30 host_picture_url\n",
      "31 host_neighbourhood\n",
      "32 host_listings_count\n",
      "33 host_total_listings_count\n",
      "34 host_verifications\n",
      "35 host_has_profile_pic\n",
      "36 host_identity_verified\n",
      "37 street\n",
      "38 neighbourhood\n",
      "39 neighbourhood_cleansed\n",
      "40 neighbourhood_group_cleansed\n",
      "41 city\n",
      "42 state\n",
      "43 zipcode\n",
      "44 market\n",
      "45 smart_location\n",
      "46 country_code\n",
      "47 country\n",
      "48 latitude\n",
      "49 longitude\n",
      "50 is_location_exact\n",
      "51 property_type\n",
      "52 room_type\n",
      "53 accommodates\n",
      "54 bathrooms\n",
      "55 bedrooms\n",
      "56 beds\n",
      "57 bed_type\n",
      "58 amenities\n",
      "59 square_feet\n",
      "60 price\n",
      "61 weekly_price\n",
      "62 monthly_price\n",
      "63 security_deposit\n",
      "64 cleaning_fee\n",
      "65 guests_included\n",
      "66 extra_people\n",
      "67 minimum_nights\n",
      "68 maximum_nights\n",
      "69 minimum_minimum_nights\n",
      "70 maximum_minimum_nights\n",
      "71 minimum_maximum_nights\n",
      "72 maximum_maximum_nights\n",
      "73 minimum_nights_avg_ntm\n",
      "74 maximum_nights_avg_ntm\n",
      "75 calendar_updated\n",
      "76 has_availability\n",
      "77 availability_30\n",
      "78 availability_60\n",
      "79 availability_90\n",
      "80 availability_365\n",
      "81 calendar_last_scraped\n",
      "82 number_of_reviews\n",
      "83 number_of_reviews_ltm\n",
      "84 first_review\n",
      "85 last_review\n",
      "86 review_scores_rating\n",
      "87 review_scores_accuracy\n",
      "88 review_scores_cleanliness\n",
      "89 review_scores_checkin\n",
      "90 review_scores_communication\n",
      "91 review_scores_location\n",
      "92 review_scores_value\n",
      "93 requires_license\n",
      "94 license\n",
      "95 jurisdiction_names\n",
      "96 instant_bookable\n",
      "97 is_business_travel_ready\n",
      "98 cancellation_policy\n",
      "99 require_guest_profile_picture\n",
      "100 require_guest_phone_verification\n",
      "101 calculated_host_listings_count\n",
      "102 calculated_host_listings_count_entire_homes\n",
      "103 calculated_host_listings_count_private_rooms\n",
      "104 calculated_host_listings_count_shared_rooms\n",
      "105 reviews_per_month\n"
     ]
    }
   ],
   "source": [
    "# Print column and column index, so we can pick relevant columns to keep during data cleaning\n",
    "for i, column in enumerate(listings):\n",
    "    print(i, column)"
   ],
   "metadata": {
    "collapsed": false,
    "ExecuteTime": {
     "end_time": "2023-09-25T13:18:22.380252Z",
     "start_time": "2023-09-25T13:18:22.368161Z"
    }
   },
   "id": "493845c81e306c48"
  },
  {
   "cell_type": "code",
   "execution_count": 24,
   "outputs": [],
   "source": [
    "# Pick only relevant columns\n",
    "cleaned_listings = listings.copy(True)\n",
    "range_columns = np.r_[4:15, 19, 24:29, 34:37, 53:61, 63:67, 73:75, 86:94, 96:106]\n",
    "cleaned_listings = cleaned_listings.iloc[:, range_columns]\n",
    "cleaned_listings.drop('square_feet', axis=1, inplace=True)\n",
    "cleaned_listings.drop('space', axis=1, inplace=True)\n",
    "cleaned_listings.drop('calculated_host_listings_count', axis=1, inplace=True)\n",
    "cleaned_listings.drop('calculated_host_listings_count_entire_homes', axis=1, inplace=True)\n",
    "cleaned_listings.drop('calculated_host_listings_count_private_rooms', axis=1, inplace=True)\n",
    "cleaned_listings.drop('calculated_host_listings_count_shared_rooms', axis=1, inplace=True)\n",
    "\n",
    "cleaned_listings = cleaned_listings[cleaned_listings['reviews_per_month'].notnull()]\n",
    "# Replace nulls in notes, transit, and access columns with empty string\n",
    "cleaned_listings['notes'].fillna('', inplace=True)\n",
    "cleaned_listings['transit'].fillna('', inplace=True)\n",
    "cleaned_listings['access'].fillna('', inplace=True)\n",
    "cleaned_listings['interaction'].fillna('', inplace=True)\n",
    "cleaned_listings['neighborhood_overview'].fillna('', inplace=True)\n",
    "cleaned_listings['host_about'].fillna('', inplace=True)\n",
    "cleaned_listings['house_rules'].fillna('', inplace=True)\n",
    "cleaned_listings['summary'].fillna('', inplace=True)\n",
    "cleaned_listings['description'].fillna('', inplace=True)\n",
    "\n",
    "# Convert % strings in host_response_rate to floats\n",
    "cleaned_listings['host_response_rate'] = cleaned_listings['host_response_rate'].str.rstrip('%').astype('float') / 100.0\n",
    "cleaned_listings['host_acceptance_rate'] = cleaned_listings['host_acceptance_rate'].str.rstrip('%').astype('float') / 100.0\n",
    "\n",
    "# Run one hot encoding on categorical columns\n",
    "cleaned_listings = pd.get_dummies(cleaned_listings, columns=['host_response_time'])\n",
    "cleaned_listings = pd.get_dummies(cleaned_listings, columns=['bed_type'])\n",
    "cleaned_listings = pd.get_dummies(cleaned_listings, columns=['cancellation_policy'])\n",
    "\n",
    "# Convert relevant columns to boolean, when == \"f\" is false, 1 when == \"t\" to true\n",
    "cleaned_listings = convert_columns_to_boolean(cleaned_listings, ['host_is_superhost', 'host_has_profile_pic', 'host_identity_verified', 'requires_license', 'instant_bookable', 'is_business_travel_ready', 'require_guest_profile_picture', 'require_guest_phone_verification'])\n",
    "\n",
    "# Find NaN values in host_response_rate and replace them with the average host_response_rate for that row's host_id\n",
    "cleaned_listings = replace_nan_with_mean(cleaned_listings)\n",
    "\n",
    "# Get length of host_verifications for each row and replace value in row with length\n",
    "# Count number of commas in string in amenities column and replace value in row with count\n",
    "cleaned_listings = process_host_verifications_and_amenities(cleaned_listings)\n",
    "\n",
    "# Replace nulls in 'security_deposit' column with 0\n",
    "cleaned_listings['security_deposit'].fillna(0, inplace=True)\n",
    "cleaned_listings['cleaning_fee'].fillna(0, inplace=True)\n",
    "\n",
    "# Convert accommodates to a float\n",
    "cleaned_listings['accommodates'] = cleaned_listings['accommodates'].astype('float')\n",
    "\n",
    "# Handle columns with dollar signs\n",
    "cleaned_listings = process_price_columns(cleaned_listings, ['price', 'security_deposit', 'cleaning_fee', 'extra_people'])\n",
    "\n",
    "# Drop host_id\n",
    "cleaned_listings.drop('host_id', axis=1, inplace=True)"
   ],
   "metadata": {
    "collapsed": false,
    "ExecuteTime": {
     "end_time": "2023-09-25T13:18:23.440667Z",
     "start_time": "2023-09-25T13:18:23.142201Z"
    }
   },
   "id": "6502687da723f10a"
  },
  {
   "cell_type": "code",
   "execution_count": 35,
   "outputs": [],
   "source": [
    "vector_cleaned_listing = pd.read_csv('/Users/vinayakkannan/Desktop/Interviews/Vangaurd/Project/Data/vectors_cleaned_listing_pca_deliverable.csv')"
   ],
   "metadata": {
    "collapsed": false,
    "ExecuteTime": {
     "end_time": "2023-09-25T13:20:27.665628Z",
     "start_time": "2023-09-25T13:20:27.423039Z"
    }
   },
   "id": "7bdd7e3104acd876"
  },
  {
   "cell_type": "code",
   "execution_count": null,
   "outputs": [],
   "source": [
    "# This code takes a long time to run. As such, I have saved the output in a csv file and have loaded it in the previous cell\n",
    "openai.api_key = '...'\n",
    "\n",
    "def text_to_vector(text):\n",
    "    if pd.isna(text):\n",
    "        text = \"\"\n",
    "    if text == \"\":\n",
    "        # Return 1536 dimensional vector of 0's\n",
    "        return [0] * 1536\n",
    "    embedding_model = \"text-embedding-ada-002\"\n",
    "    response = get_embedding(text, engine=embedding_model)\n",
    "    return response\n",
    "\n",
    "for i, column in enumerate(vector_cleaned_listing):\n",
    "    # Check if column type is object\n",
    "    if vector_cleaned_listing[column].dtype == 'object' and i <= 0:\n",
    "      print(column)\n",
    "      vector_cleaned_listing[column + '_embedding'] = vector_cleaned_listing.apply(lambda row : text_to_vector(row[i]), axis = 1)\n",
    "      vector_cleaned_listing.drop(column, axis=1, inplace=True)\n",
    "  \n",
    "def remove_null_bytes(s):\n",
    "    try:\n",
    "        return np.char.replace(s, '\\x00', '')\n",
    "    except:\n",
    "       print(s)     \n",
    "\n",
    "for i in range(48, 59):\n",
    "    vector_cleaned_listing.iloc[:, i] = vector_cleaned_listing.iloc[:, i].apply(lambda x: np.array(eval(x)))\n",
    "\n",
    "    \n",
    "    def pca_transform(embeddings, explained_variance_threshold=0.8):\n",
    "        # Split the embeddings into a DataFrame\n",
    "        embeddings_df = pd.DataFrame(embeddings.tolist())\n",
    "    \n",
    "        # Apply PCA to the embeddings DataFrame\n",
    "        pca = PCA()\n",
    "        pca.fit(embeddings_df)\n",
    "        cum_explained_variance = np.cumsum(pca.explained_variance_ratio_)\n",
    "        n_components = np.argmax(cum_explained_variance >= explained_variance_threshold) + 1\n",
    "        pca = PCA(n_components=n_components)\n",
    "        transformed_embeddings = pca.fit_transform(embeddings_df)\n",
    "    \n",
    "        return transformed_embeddings\n",
    "    \n",
    "    # Apply PCA to the embedding column\n",
    "    embedding_pca = pca_transform(vector_cleaned_listing.iloc[:, i])\n",
    "\n",
    "    # Replace the original columns with the PCA components\n",
    "    for j in range(embedding_pca.shape[1]):\n",
    "        # Get column name at index i in vector_cleaned_listing\n",
    "        column_name = vector_cleaned_listing.columns[i]\n",
    "        vector_cleaned_listing[f'{column_name}_pca_{j+1}'] = embedding_pca[:, j]"
   ],
   "metadata": {
    "collapsed": false
   },
   "id": "88a5ba7b58b00896"
  },
  {
   "cell_type": "code",
   "execution_count": 36,
   "outputs": [],
   "source": [
    "# Convert all columns that are of type object to boolean using astype(bool)\n",
    "for i, column in enumerate(vector_cleaned_listing):\n",
    "    if vector_cleaned_listing[column].dtype == 'object':\n",
    "      vector_cleaned_listing[column] = vector_cleaned_listing[column].astype(bool)\n",
    "\n",
    "# Drop all rows with null values\n",
    "vector_cleaned_listing.dropna(inplace=True)"
   ],
   "metadata": {
    "collapsed": false,
    "ExecuteTime": {
     "end_time": "2023-09-25T13:20:36.774735Z",
     "start_time": "2023-09-25T13:20:36.755888Z"
    }
   },
   "id": "ca9ac7fdeb58a90f"
  },
  {
   "cell_type": "code",
   "execution_count": 38,
   "outputs": [],
   "source": [
    "# Normalize all numeric columns using sklearn\n",
    "scaler = StandardScaler()\n",
    "for col in vector_cleaned_listing.columns:\n",
    "    if vector_cleaned_listing[col].dtype != 'object' and vector_cleaned_listing[col].dtype != 'bool' and col != 'reviews_per_month':\n",
    "        vector_cleaned_listing[col] = scaler.fit_transform(vector_cleaned_listing[[col]])"
   ],
   "metadata": {
    "collapsed": false,
    "ExecuteTime": {
     "end_time": "2023-09-25T13:20:48.449492Z",
     "start_time": "2023-09-25T13:20:47.891659Z"
    }
   },
   "id": "e00721af9ce3f606"
  },
  {
   "cell_type": "markdown",
   "source": [
    "### Modeling without text columns\n",
    "This portion of the notebook creates 3 predictive models (linear, lasso, XGBoost) to predict 'reviews_per_month' using the features in the dataset. The models are trained on 80% of the data and tested on 20% of the data. The models are evaluated using mean squared error and R^2. The models are also cross-validated using 10-fold cross validation. The best hyperparameters for each model are found using grid search. In this portion of the notebook, the text columns are dropped from the dataset."
   ],
   "metadata": {
    "collapsed": false
   },
   "id": "83ab01f22293a2f7"
  },
  {
   "cell_type": "code",
   "execution_count": 59,
   "outputs": [
    {
     "name": "stdout",
     "output_type": "stream",
     "text": [
      "                                                 importance\n",
      "minimum_nights_avg_ntm                             0.102113\n",
      "host_acceptance_rate                               0.062643\n",
      "review_scores_rating                               0.047963\n",
      "cleaning_fee                                       0.047072\n",
      "guests_included                                    0.046379\n",
      "host_response_time_within an hour                  0.046151\n",
      "host_is_superhost                                  0.045566\n",
      "bed_type_Couch                                     0.039822\n",
      "accommodates                                       0.034099\n",
      "require_guest_phone_verification                   0.034060\n",
      "maximum_nights_avg_ntm                             0.032305\n",
      "extra_people                                       0.030566\n",
      "bedrooms                                           0.029511\n",
      "cancellation_policy_moderate                       0.025708\n",
      "review_scores_cleanliness                          0.025158\n",
      "host_response_rate                                 0.024396\n",
      "host_verifications                                 0.023104\n",
      "security_deposit                                   0.022498\n",
      "bathrooms                                          0.022332\n",
      "price                                              0.021715\n",
      "beds                                               0.021360\n",
      "host_response_time_within a few hours              0.020819\n",
      "amenities                                          0.020715\n",
      "instant_bookable                                   0.019813\n",
      "cancellation_policy_strict_14_with_grace_period    0.019360\n",
      "host_identity_verified                             0.016610\n",
      "review_scores_location                             0.015947\n",
      "review_scores_value                                0.015839\n",
      "cancellation_policy_flexible                       0.014992\n",
      "require_guest_profile_picture                      0.013925\n",
      "review_scores_communication                        0.013639\n",
      "host_response_time_within a day                    0.013456\n",
      "review_scores_checkin                              0.011137\n",
      "bed_type_Real Bed                                  0.009741\n",
      "review_scores_accuracy                             0.009488\n",
      "host_response_time_a few days or more              0.000000\n",
      "bed_type_Airbed                                    0.000000\n",
      "is_business_travel_ready                           0.000000\n",
      "bed_type_Futon                                     0.000000\n",
      "bed_type_Pull-out Sofa                             0.000000\n",
      "requires_license                                   0.000000\n",
      "host_has_profile_pic                               0.000000\n",
      "cancellation_policy_super_strict_60                0.000000\n"
     ]
    }
   ],
   "source": [
    "# Drop embeddings for baseline\n",
    "# Get column index for name_embedding_pca_1\n",
    "name_embedding_pca_1_index = vector_cleaned_listing.columns.get_loc('name_embedding_pca_1')\n",
    "vector_cleaned_listing_no_text = vector_cleaned_listing.drop(vector_cleaned_listing.columns[name_embedding_pca_1_index:], axis=1)\n",
    "\n",
    "y = vector_cleaned_listing_no_text['reviews_per_month']\n",
    "X = vector_cleaned_listing_no_text.drop('reviews_per_month', axis=1)\n",
    "\n",
    "X_train, X_test, y_train, y_test = train_test_split(X, y, test_size=0.2, random_state=42)\n",
    "\n",
    "\n",
    "linear_model = LinearRegression()\n",
    "cv = KFold(n_splits=10, random_state=42, shuffle=True)\n",
    "linear_scores = cross_validate(linear_model, X_train.values, y_train.values, cv=cv, scoring='neg_mean_squared_error', return_estimator=True, return_train_score=True)\n",
    "linear_mse = -np.mean(linear_scores['test_score'])\n",
    "\n",
    "# Lasso Regression\n",
    "lasso_params = {'alpha': [0.001, 0.01, 0.1, 1, 10]}\n",
    "lasso_grid = GridSearchCV(Lasso(), lasso_params, cv=cv, scoring='neg_mean_squared_error')\n",
    "lasso_grid.fit(X_train.values, y_train.values)\n",
    "lasso_best_mse = -lasso_grid.best_score_\n",
    "lasso_best_params = lasso_grid.best_params_\n",
    "\n",
    "# XGBoost\n",
    "xgb_params = {\n",
    "    'learning_rate': [0.01, 0.1, 0.2],\n",
    "    'max_depth': [3, 5, 7],\n",
    "    'n_estimators': [50, 100, 200],\n",
    "    'min_child_weight': [1, 3, 5]\n",
    "}\n",
    "xgb_grid = GridSearchCV(xgb.XGBRegressor(objective='reg:squarederror'), xgb_params, cv=cv, scoring='neg_mean_squared_error')\n",
    "xgb_grid.fit(X_train.values, y_train.values)\n",
    "xgb_best_mse = -xgb_grid.best_score_\n",
    "xgb_best_params = xgb_grid.best_params_\n",
    "\n",
    "# Print most important features for xgboost model\n",
    "xgb_model = xgb_grid.best_estimator_\n",
    "xgb_model.fit(X_train.values, y_train.values)\n",
    "feature_importances = pd.DataFrame(xgb_model.feature_importances_, index = X_train.columns, columns=['importance']).sort_values('importance', ascending=False)\n",
    "print(feature_importances)"
   ],
   "metadata": {
    "collapsed": false,
    "ExecuteTime": {
     "end_time": "2023-09-25T14:24:19.418836Z",
     "start_time": "2023-09-25T14:23:09.504474Z"
    }
   },
   "id": "63b29f395d2a7ce7"
  },
  {
   "cell_type": "code",
   "execution_count": 41,
   "outputs": [
    {
     "name": "stdout",
     "output_type": "stream",
     "text": [
      "Linear Regression Train MSE: 1.95, R^2: 0.24\n",
      "Lasso Regression Train MSE: 1.95, R^2: 0.24\n",
      "XGBoost Train MSE: 0.11, R^2: 0.96\n",
      "Linear Regression Test MSE: 9251339812682184704.00, R^2: -3328894060461276160.00\n",
      "Lasso Regression Test MSE: 2.16, R^2: 0.22\n",
      "XGBoost Test MSE: 1.42, R^2: 0.49\n"
     ]
    }
   ],
   "source": [
    "# Linear Regression\n",
    "linear_model = LinearRegression()\n",
    "linear_model.fit(X_train, y_train)\n",
    "linear_train_pred = linear_model.predict(X_train)\n",
    "linear_test_pred = linear_model.predict(X_test)\n",
    "\n",
    "# Lasso Regression\n",
    "lasso_model = Lasso(**lasso_best_params)\n",
    "lasso_model.fit(X_train, y_train)\n",
    "lasso_train_pred = lasso_model.predict(X_train)\n",
    "lasso_test_pred = lasso_model.predict(X_test)\n",
    "\n",
    "# XGBoost\n",
    "xgb_model = xgb.XGBRegressor(objective='reg:squarederror', **xgb_best_params)\n",
    "xgb_model.fit(X_train, y_train)\n",
    "xgb_train_pred = xgb_model.predict(X_train)\n",
    "xgb_test_pred = xgb_model.predict(X_test)\n",
    "\n",
    "# Calculate and print MSE and R^2 for each model on training data\n",
    "for model_name, y_pred in zip(['Linear Regression', 'Lasso Regression', 'XGBoost'], [linear_train_pred, lasso_train_pred, xgb_train_pred]):\n",
    "    mse = mean_squared_error(y_train, y_pred)\n",
    "    r2 = r2_score(y_train, y_pred)\n",
    "    print(f\"{model_name} Train MSE: {mse:.2f}, R^2: {r2:.2f}\")\n",
    "\n",
    "# Calculate and print MSE and R^2 for each model on test data\n",
    "for model_name, y_pred in zip(['Linear Regression', 'Lasso Regression', 'XGBoost'], [linear_test_pred, lasso_test_pred, xgb_test_pred]):\n",
    "    mse = mean_squared_error(y_test, y_pred)\n",
    "    r2 = r2_score(y_test, y_pred)\n",
    "    print(f\"{model_name} Test MSE: {mse:.2f}, R^2: {r2:.2f}\")"
   ],
   "metadata": {
    "collapsed": false,
    "ExecuteTime": {
     "end_time": "2023-09-25T13:21:57.406640Z",
     "start_time": "2023-09-25T13:21:56.887543Z"
    }
   },
   "id": "c060fd54434adeec"
  },
  {
   "cell_type": "markdown",
   "source": [
    "### Modeling with text columns\n",
    "This portion of the notebook repeats the same steps as above, but including text column embeddings for comparison"
   ],
   "metadata": {
    "collapsed": false
   },
   "id": "dfd4c10d98bb24e4"
  },
  {
   "cell_type": "code",
   "execution_count": 42,
   "outputs": [
    {
     "name": "stdout",
     "output_type": "stream",
     "text": [
      "                                   importance\n",
      "minimum_nights_avg_ntm               0.022190\n",
      "host_response_time_within an hour    0.016383\n",
      "host_about_embedding_pca_33          0.015415\n",
      "review_scores_rating                 0.014485\n",
      "guests_included                      0.013732\n",
      "...                                       ...\n",
      "bed_type_Futon                       0.000000\n",
      "host_about_embedding_pca_2           0.000000\n",
      "host_about_embedding_pca_3           0.000000\n",
      "host_about_embedding_pca_4           0.000000\n",
      "bed_type_Couch                       0.000000\n",
      "\n",
      "[598 rows x 1 columns]\n"
     ]
    }
   ],
   "source": [
    "vector_cleaned_listing_with_text = vector_cleaned_listing.copy(deep=True)\n",
    "\n",
    "y = vector_cleaned_listing_with_text['reviews_per_month']\n",
    "X = vector_cleaned_listing_with_text.drop('reviews_per_month', axis=1)\n",
    "\n",
    "X_train, X_test, y_train, y_test = train_test_split(X, y, test_size=0.2, random_state=42)\n",
    "\n",
    "\n",
    "linear_model = LinearRegression()\n",
    "cv = KFold(n_splits=10, random_state=42, shuffle=True)\n",
    "linear_scores = cross_validate(linear_model, X_train.values, y_train.values, cv=cv, scoring='neg_mean_squared_error', return_estimator=True, return_train_score=True)\n",
    "linear_mse = -np.mean(linear_scores['test_score'])\n",
    "\n",
    "# Lasso Regression\n",
    "lasso_params = {'alpha': [0.001, 0.01, 0.1, 1, 10]}\n",
    "lasso_grid = GridSearchCV(Lasso(), lasso_params, cv=cv, scoring='neg_mean_squared_error')\n",
    "lasso_grid.fit(X_train.values, y_train.values)\n",
    "lasso_best_mse = -lasso_grid.best_score_\n",
    "lasso_best_params = lasso_grid.best_params_\n",
    "\n",
    "# XGBoost\n",
    "xgb_params = {\n",
    "    'learning_rate': [0.01, 0.1, 0.2],\n",
    "    'max_depth': [3, 5, 7],\n",
    "    'n_estimators': [50, 100, 200],\n",
    "    'min_child_weight': [1, 3, 5]\n",
    "}\n",
    "xgb_grid = GridSearchCV(xgb.XGBRegressor(objective='reg:squarederror'), xgb_params, cv=cv, scoring='neg_mean_squared_error')\n",
    "xgb_grid.fit(X_train.values, y_train.values)\n",
    "xgb_best_mse = -xgb_grid.best_score_\n",
    "xgb_best_params = xgb_grid.best_params_\n",
    "\n",
    "# Print most important features for xgboost model\n",
    "xgb_model = xgb_grid.best_estimator_\n",
    "xgb_model.fit(X_train.values, y_train.values)\n",
    "feature_importances = pd.DataFrame(xgb_model.feature_importances_, index = X_train.columns, columns=['importance']).sort_values('importance', ascending=False)\n",
    "print(feature_importances)"
   ],
   "metadata": {
    "collapsed": false,
    "ExecuteTime": {
     "end_time": "2023-09-25T13:56:53.595910Z",
     "start_time": "2023-09-25T13:21:57.408680Z"
    }
   },
   "id": "ba19ae6b8539fdf0"
  },
  {
   "cell_type": "code",
   "execution_count": 43,
   "outputs": [
    {
     "name": "stdout",
     "output_type": "stream",
     "text": [
      "Linear Regression Train MSE: 1.12, R^2: 0.56\n",
      "Lasso Regression Train MSE: 1.28, R^2: 0.50\n",
      "XGBoost Train MSE: 0.05, R^2: 0.98\n",
      "Linear Regression Test MSE: 1317941882683805184.00, R^2: -474232813206684160.00\n",
      "Lasso Regression Test MSE: 1.81, R^2: 0.35\n",
      "XGBoost Test MSE: 1.40, R^2: 0.50\n"
     ]
    }
   ],
   "source": [
    "# Linear Regression\n",
    "linear_model = LinearRegression()\n",
    "linear_model.fit(X_train, y_train)\n",
    "linear_train_pred = linear_model.predict(X_train)\n",
    "linear_test_pred = linear_model.predict(X_test)\n",
    "\n",
    "# Lasso Regression\n",
    "lasso_model = Lasso(**lasso_best_params)\n",
    "lasso_model.fit(X_train, y_train)\n",
    "lasso_train_pred = lasso_model.predict(X_train)\n",
    "lasso_test_pred = lasso_model.predict(X_test)\n",
    "\n",
    "# XGBoost\n",
    "xgb_model = xgb.XGBRegressor(objective='reg:squarederror', **xgb_best_params)\n",
    "xgb_model.fit(X_train, y_train)\n",
    "xgb_train_pred = xgb_model.predict(X_train)\n",
    "xgb_test_pred = xgb_model.predict(X_test)\n",
    "\n",
    "# Calculate and print MSE and R^2 for each model on training data\n",
    "for model_name, y_pred in zip(['Linear Regression', 'Lasso Regression', 'XGBoost'],\n",
    "                              [linear_train_pred, lasso_train_pred, xgb_train_pred]):\n",
    "    mse = mean_squared_error(y_train, y_pred)\n",
    "    r2 = r2_score(y_train, y_pred)\n",
    "    print(f\"{model_name} Train MSE: {mse:.2f}, R^2: {r2:.2f}\")\n",
    "\n",
    "# Calculate and print MSE and R^2 for each model on test data\n",
    "for model_name, y_pred in zip(['Linear Regression', 'Lasso Regression', 'XGBoost'],\n",
    "                              [linear_test_pred, lasso_test_pred, xgb_test_pred]):\n",
    "    mse = mean_squared_error(y_test, y_pred)\n",
    "    r2 = r2_score(y_test, y_pred)\n",
    "    print(f\"{model_name} Test MSE: {mse:.2f}, R^2: {r2:.2f}\")"
   ],
   "metadata": {
    "collapsed": false,
    "ExecuteTime": {
     "end_time": "2023-09-25T13:56:59.847390Z",
     "start_time": "2023-09-25T13:56:53.608690Z"
    }
   },
   "id": "efcb9a4b1427bde1"
  },
  {
   "cell_type": "markdown",
   "source": [
    "### Conclusion\n",
    "This notebook analyzed Airbnb listings data from the Bay Area. It focused on providing an overview of the data, identifying a key problem to solve, and then solving said problem through modeling. The problem this notebook focused on was trying to assist underperforming, yet highly reviewed, listings on Airbnb by creating a model that predicts 'traffic', using avg. number of reviews as proxy, and provides features which are important to said predictions.\n",
    "\n",
    "Ultimately, XGBoost without text embeddings arose to the top as being the most performant model. This model can be used to assist new Airbnb hosts in predicting their traffic in the Bay Area. Futhermore, this model also shared which features arose in importance in relation to predicting traffic. Some of these features where expected, such as price, while others were not, such as number of guests. This model can be used to help new Airbnb hosts in the Bay Area predict their traffic and help them make decisions on how to improve their listings to increase traffic.\n",
    "\n",
    "\n",
    "##### Citations\n",
    "OpenAI embeddings were used to create text embeddings for the text columns in the dataset, using their OpanAI endpoints. Additionally, GitHub CoPilot was used while creating this notebook"
   ],
   "metadata": {
    "collapsed": false
   },
   "id": "494c9d9520faa9b3"
  },
  {
   "cell_type": "code",
   "execution_count": null,
   "outputs": [],
   "source": [],
   "metadata": {
    "collapsed": false
   },
   "id": "ae54f6baa8fc21a5"
  }
 ],
 "metadata": {
  "kernelspec": {
   "display_name": "Python 3",
   "language": "python",
   "name": "python3"
  },
  "language_info": {
   "codemirror_mode": {
    "name": "ipython",
    "version": 2
   },
   "file_extension": ".py",
   "mimetype": "text/x-python",
   "name": "python",
   "nbconvert_exporter": "python",
   "pygments_lexer": "ipython2",
   "version": "2.7.6"
  }
 },
 "nbformat": 4,
 "nbformat_minor": 5
}
