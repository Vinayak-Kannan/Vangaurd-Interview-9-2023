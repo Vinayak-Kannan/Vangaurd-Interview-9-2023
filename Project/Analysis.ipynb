{
 "cells": [
  {
   "cell_type": "markdown",
   "source": [
    "Notebook Outline\n",
    "- Break apart df into smaller tables with related information\n",
    "- \n",
    "\n",
    "Proposed Outline for Story I'd like to tell\n",
    "- Exploratory\n",
    "\n",
    "Ideas\n",
    "- Predict if thumbnail is a reliable indicator for rating\n",
    "- Look for ways to help hosts with good ratings host more people\n",
    "    - How do we check if this is a problem?\n",
    "        - I'd expect to see x% of hosts with good ratings but who have lower # of visits that other hosts\n",
    "        - Proxy for # of visits could be # of reviews\n",
    "    - Better descriptions\n",
    "    - Better Thumbnails\n",
    "    - Verification, types of verification\n",
    "    - Profile pic (quality of pic, if its better do we get more visits?)\n",
    "    - Location\n",
    "    - Price\n",
    "    - Price vs neighborhood?\n",
    "\n",
    "Insights so far\n",
    "- Reviews just contains number of reviews for an ID in a time series manner. Doesn't give review content\n",
    "- Neighborhoods is honestly useless"
   ],
   "metadata": {
    "collapsed": false
   },
   "id": "2fdb056cbb42d656"
  },
  {
   "cell_type": "markdown",
   "source": [
    "Install necessary packages"
   ],
   "metadata": {
    "collapsed": false
   },
   "id": "71ef3ca01652877e"
  },
  {
   "cell_type": "code",
   "execution_count": 1,
   "outputs": [
    {
     "name": "stdout",
     "output_type": "stream",
     "text": [
      "Collecting pandas\r\n",
      "  Using cached pandas-2.1.0-cp39-cp39-macosx_11_0_arm64.whl (11.3 MB)\r\n",
      "Collecting numpy>=1.22.4\r\n",
      "  Using cached numpy-1.26.0-cp39-cp39-macosx_11_0_arm64.whl (14.0 MB)\r\n",
      "Requirement already satisfied: python-dateutil>=2.8.2 in ./venv/lib/python3.9/site-packages (from pandas) (2.8.2)\r\n",
      "Collecting pytz>=2020.1\r\n",
      "  Using cached pytz-2023.3.post1-py2.py3-none-any.whl (502 kB)\r\n",
      "Collecting tzdata>=2022.1\r\n",
      "  Using cached tzdata-2023.3-py2.py3-none-any.whl (341 kB)\r\n",
      "Requirement already satisfied: six>=1.5 in ./venv/lib/python3.9/site-packages (from python-dateutil>=2.8.2->pandas) (1.16.0)\r\n",
      "Installing collected packages: pytz, tzdata, numpy, pandas\r\n",
      "Successfully installed numpy-1.26.0 pandas-2.1.0 pytz-2023.3.post1 tzdata-2023.3\r\n",
      "\r\n",
      "\u001B[1m[\u001B[0m\u001B[34;49mnotice\u001B[0m\u001B[1;39;49m]\u001B[0m\u001B[39;49m A new release of pip available: \u001B[0m\u001B[31;49m22.3.1\u001B[0m\u001B[39;49m -> \u001B[0m\u001B[32;49m23.2.1\u001B[0m\r\n",
      "\u001B[1m[\u001B[0m\u001B[34;49mnotice\u001B[0m\u001B[1;39;49m]\u001B[0m\u001B[39;49m To update, run: \u001B[0m\u001B[32;49mpip install --upgrade pip\u001B[0m\r\n"
     ]
    }
   ],
   "source": [
    "!pip install pandas"
   ],
   "metadata": {
    "collapsed": false,
    "ExecuteTime": {
     "start_time": "2023-09-20T18:25:49.458530Z"
    }
   },
   "id": "initial_id"
  },
  {
   "cell_type": "code",
   "execution_count": 3,
   "outputs": [],
   "source": [
    "import pandas as pd"
   ],
   "metadata": {
    "collapsed": false,
    "ExecuteTime": {
     "end_time": "2023-09-20T18:27:34.745256Z",
     "start_time": "2023-09-20T18:27:30.465498Z"
    }
   },
   "id": "b29467c49f3f97cf"
  },
  {
   "cell_type": "code",
   "execution_count": 4,
   "outputs": [],
   "source": [
    "listings = pd.read_csv('/Users/vinayakkannan/Desktop/Interviews/Vangaurd/Project/Data/Airbnb_Listings.csv')\n",
    "neighborhoods = pd.read_csv('/Users/vinayakkannan/Desktop/Interviews/Vangaurd/Project/Data/neighbourhoods.csv')\n",
    "reviews = pd.read_csv('/Users/vinayakkannan/Desktop/Interviews/Vangaurd/Project/Data/reviews.csv')"
   ],
   "metadata": {
    "collapsed": false,
    "ExecuteTime": {
     "end_time": "2023-09-20T18:27:35.032562Z",
     "start_time": "2023-09-20T18:27:34.744629Z"
    }
   },
   "id": "609978ff88973101"
  },
  {
   "cell_type": "code",
   "execution_count": 16,
   "outputs": [
    {
     "data": {
      "text/plain": "      id                         listing_url       scrape_id last_scraped  \\\n0   4952   https://www.airbnb.com/rooms/4952  20200530151957   2020-05-30   \n1  11464  https://www.airbnb.com/rooms/11464  20200530151957   2020-05-31   \n2  17884  https://www.airbnb.com/rooms/17884  20200530151957   2020-05-31   \n3  21373  https://www.airbnb.com/rooms/21373  20200530151957   2020-05-30   \n4  37512  https://www.airbnb.com/rooms/37512  20200530151957   2020-05-31   \n\n                                  name  \\\n0    Butterfly Inn - Graceful Living !   \n1    Deluxe Private Studio-custom int.   \n2                 Silicon Valley Suite   \n3  Bonsai Garden Inn in Professorville   \n4    Private  room - Parking 3 carport   \n\n                                             summary  \\\n0  Lovely garden setting in a serene and art-fill...   \n1  Custom built Studio with exquisite design. Rea...   \n2  A guest suite for one or two, in a house in a ...   \n3  Room  in gracious home with beautiful garden. ...   \n4  We live in a safe community close to public tr...   \n\n                                               space  \\\n0  Very comfortable Queen bed and small desk in b...   \n1  Description A favorite for international corpo...   \n2  This is a private suite at the rear of a house...   \n3  Bright, garden-facing room in beautiful home. ...   \n4  I have a really nice room in a quiet neighborh...   \n\n                                         description experiences_offered  \\\n0  Lovely garden setting in a serene and art-fill...                none   \n1  Custom built Studio with exquisite design. Rea...                none   \n2  A guest suite for one or two, in a house in a ...                none   \n3  Room  in gracious home with beautiful garden. ...                none   \n4  We live in a safe community close to public tr...                none   \n\n                               neighborhood_overview  ... instant_bookable  \\\n0  Located in Professorville, Palo Alto, one of t...  ...                f   \n1  10 min. to Lucky's and Starbucks at El Camino ...  ...                f   \n2  This is a very quiet family neighborhood, but ...  ...                f   \n3  This room is in an ultra convenient location i...  ...                f   \n4  Our community is a safe environment and at nig...  ...                f   \n\n  is_business_travel_ready          cancellation_policy  \\\n0                        f                     moderate   \n1                        f                     moderate   \n2                        f  strict_14_with_grace_period   \n3                        f                     moderate   \n4                        f                     moderate   \n\n  require_guest_profile_picture require_guest_phone_verification  \\\n0                             f                                f   \n1                             f                                t   \n2                             f                                f   \n3                             f                                f   \n4                             t                                t   \n\n   calculated_host_listings_count  \\\n0                               5   \n1                              12   \n2                               2   \n3                               5   \n4                               2   \n\n   calculated_host_listings_count_entire_homes  \\\n0                                            0   \n1                                           12   \n2                                            2   \n3                                            0   \n4                                            0   \n\n  calculated_host_listings_count_private_rooms  \\\n0                                            5   \n1                                            0   \n2                                            0   \n3                                            5   \n4                                            2   \n\n   calculated_host_listings_count_shared_rooms  reviews_per_month  \n0                                            0               0.57  \n1                                            0               0.08  \n2                                            0               0.11  \n3                                            0               2.17  \n4                                            0               1.53  \n\n[5 rows x 106 columns]",
      "text/html": "<div>\n<style scoped>\n    .dataframe tbody tr th:only-of-type {\n        vertical-align: middle;\n    }\n\n    .dataframe tbody tr th {\n        vertical-align: top;\n    }\n\n    .dataframe thead th {\n        text-align: right;\n    }\n</style>\n<table border=\"1\" class=\"dataframe\">\n  <thead>\n    <tr style=\"text-align: right;\">\n      <th></th>\n      <th>id</th>\n      <th>listing_url</th>\n      <th>scrape_id</th>\n      <th>last_scraped</th>\n      <th>name</th>\n      <th>summary</th>\n      <th>space</th>\n      <th>description</th>\n      <th>experiences_offered</th>\n      <th>neighborhood_overview</th>\n      <th>...</th>\n      <th>instant_bookable</th>\n      <th>is_business_travel_ready</th>\n      <th>cancellation_policy</th>\n      <th>require_guest_profile_picture</th>\n      <th>require_guest_phone_verification</th>\n      <th>calculated_host_listings_count</th>\n      <th>calculated_host_listings_count_entire_homes</th>\n      <th>calculated_host_listings_count_private_rooms</th>\n      <th>calculated_host_listings_count_shared_rooms</th>\n      <th>reviews_per_month</th>\n    </tr>\n  </thead>\n  <tbody>\n    <tr>\n      <th>0</th>\n      <td>4952</td>\n      <td>https://www.airbnb.com/rooms/4952</td>\n      <td>20200530151957</td>\n      <td>2020-05-30</td>\n      <td>Butterfly Inn - Graceful Living !</td>\n      <td>Lovely garden setting in a serene and art-fill...</td>\n      <td>Very comfortable Queen bed and small desk in b...</td>\n      <td>Lovely garden setting in a serene and art-fill...</td>\n      <td>none</td>\n      <td>Located in Professorville, Palo Alto, one of t...</td>\n      <td>...</td>\n      <td>f</td>\n      <td>f</td>\n      <td>moderate</td>\n      <td>f</td>\n      <td>f</td>\n      <td>5</td>\n      <td>0</td>\n      <td>5</td>\n      <td>0</td>\n      <td>0.57</td>\n    </tr>\n    <tr>\n      <th>1</th>\n      <td>11464</td>\n      <td>https://www.airbnb.com/rooms/11464</td>\n      <td>20200530151957</td>\n      <td>2020-05-31</td>\n      <td>Deluxe Private Studio-custom int.</td>\n      <td>Custom built Studio with exquisite design. Rea...</td>\n      <td>Description A favorite for international corpo...</td>\n      <td>Custom built Studio with exquisite design. Rea...</td>\n      <td>none</td>\n      <td>10 min. to Lucky's and Starbucks at El Camino ...</td>\n      <td>...</td>\n      <td>f</td>\n      <td>f</td>\n      <td>moderate</td>\n      <td>f</td>\n      <td>t</td>\n      <td>12</td>\n      <td>12</td>\n      <td>0</td>\n      <td>0</td>\n      <td>0.08</td>\n    </tr>\n    <tr>\n      <th>2</th>\n      <td>17884</td>\n      <td>https://www.airbnb.com/rooms/17884</td>\n      <td>20200530151957</td>\n      <td>2020-05-31</td>\n      <td>Silicon Valley Suite</td>\n      <td>A guest suite for one or two, in a house in a ...</td>\n      <td>This is a private suite at the rear of a house...</td>\n      <td>A guest suite for one or two, in a house in a ...</td>\n      <td>none</td>\n      <td>This is a very quiet family neighborhood, but ...</td>\n      <td>...</td>\n      <td>f</td>\n      <td>f</td>\n      <td>strict_14_with_grace_period</td>\n      <td>f</td>\n      <td>f</td>\n      <td>2</td>\n      <td>2</td>\n      <td>0</td>\n      <td>0</td>\n      <td>0.11</td>\n    </tr>\n    <tr>\n      <th>3</th>\n      <td>21373</td>\n      <td>https://www.airbnb.com/rooms/21373</td>\n      <td>20200530151957</td>\n      <td>2020-05-30</td>\n      <td>Bonsai Garden Inn in Professorville</td>\n      <td>Room  in gracious home with beautiful garden. ...</td>\n      <td>Bright, garden-facing room in beautiful home. ...</td>\n      <td>Room  in gracious home with beautiful garden. ...</td>\n      <td>none</td>\n      <td>This room is in an ultra convenient location i...</td>\n      <td>...</td>\n      <td>f</td>\n      <td>f</td>\n      <td>moderate</td>\n      <td>f</td>\n      <td>f</td>\n      <td>5</td>\n      <td>0</td>\n      <td>5</td>\n      <td>0</td>\n      <td>2.17</td>\n    </tr>\n    <tr>\n      <th>4</th>\n      <td>37512</td>\n      <td>https://www.airbnb.com/rooms/37512</td>\n      <td>20200530151957</td>\n      <td>2020-05-31</td>\n      <td>Private  room - Parking 3 carport</td>\n      <td>We live in a safe community close to public tr...</td>\n      <td>I have a really nice room in a quiet neighborh...</td>\n      <td>We live in a safe community close to public tr...</td>\n      <td>none</td>\n      <td>Our community is a safe environment and at nig...</td>\n      <td>...</td>\n      <td>f</td>\n      <td>f</td>\n      <td>moderate</td>\n      <td>t</td>\n      <td>t</td>\n      <td>2</td>\n      <td>0</td>\n      <td>2</td>\n      <td>0</td>\n      <td>1.53</td>\n    </tr>\n  </tbody>\n</table>\n<p>5 rows × 106 columns</p>\n</div>"
     },
     "execution_count": 16,
     "metadata": {},
     "output_type": "execute_result"
    }
   ],
   "source": [
    "listings.head()"
   ],
   "metadata": {
    "collapsed": false,
    "ExecuteTime": {
     "end_time": "2023-09-20T19:10:39.155608Z",
     "start_time": "2023-09-20T19:10:39.135378Z"
    }
   },
   "id": "cc1e83b98af3f46f"
  },
  {
   "cell_type": "code",
   "execution_count": 13,
   "outputs": [
    {
     "name": "stdout",
     "output_type": "stream",
     "text": [
      "id\n",
      "listing_url\n",
      "scrape_id\n",
      "last_scraped\n",
      "name\n",
      "summary\n",
      "space\n",
      "description\n",
      "experiences_offered\n",
      "neighborhood_overview\n",
      "notes\n",
      "transit\n",
      "access\n",
      "interaction\n",
      "house_rules\n",
      "thumbnail_url\n",
      "medium_url\n",
      "picture_url\n",
      "xl_picture_url\n",
      "host_id\n",
      "host_url\n",
      "host_name\n",
      "host_since\n",
      "host_location\n",
      "host_about\n",
      "host_response_time\n",
      "host_response_rate\n",
      "host_acceptance_rate\n",
      "host_is_superhost\n",
      "host_thumbnail_url\n",
      "host_picture_url\n",
      "host_neighbourhood\n",
      "host_listings_count\n",
      "host_total_listings_count\n",
      "host_verifications\n",
      "host_has_profile_pic\n",
      "host_identity_verified\n",
      "street\n",
      "neighbourhood\n",
      "neighbourhood_cleansed\n",
      "neighbourhood_group_cleansed\n",
      "city\n",
      "state\n",
      "zipcode\n",
      "market\n",
      "smart_location\n",
      "country_code\n",
      "country\n",
      "latitude\n",
      "longitude\n",
      "is_location_exact\n",
      "property_type\n",
      "room_type\n",
      "accommodates\n",
      "bathrooms\n",
      "bedrooms\n",
      "beds\n",
      "bed_type\n",
      "amenities\n",
      "square_feet\n",
      "price\n",
      "weekly_price\n",
      "monthly_price\n",
      "security_deposit\n",
      "cleaning_fee\n",
      "guests_included\n",
      "extra_people\n",
      "minimum_nights\n",
      "maximum_nights\n",
      "minimum_minimum_nights\n",
      "maximum_minimum_nights\n",
      "minimum_maximum_nights\n",
      "maximum_maximum_nights\n",
      "minimum_nights_avg_ntm\n",
      "maximum_nights_avg_ntm\n",
      "calendar_updated\n",
      "has_availability\n",
      "availability_30\n",
      "availability_60\n",
      "availability_90\n",
      "availability_365\n",
      "calendar_last_scraped\n",
      "number_of_reviews\n",
      "number_of_reviews_ltm\n",
      "first_review\n",
      "last_review\n",
      "review_scores_rating\n",
      "review_scores_accuracy\n",
      "review_scores_cleanliness\n",
      "review_scores_checkin\n",
      "review_scores_communication\n",
      "review_scores_location\n",
      "review_scores_value\n",
      "requires_license\n",
      "license\n",
      "jurisdiction_names\n",
      "instant_bookable\n",
      "is_business_travel_ready\n",
      "cancellation_policy\n",
      "require_guest_profile_picture\n",
      "require_guest_phone_verification\n",
      "calculated_host_listings_count\n",
      "calculated_host_listings_count_entire_homes\n",
      "calculated_host_listings_count_private_rooms\n",
      "calculated_host_listings_count_shared_rooms\n",
      "reviews_per_month\n"
     ]
    }
   ],
   "source": [
    "for col in listings:\n",
    "    print(col)"
   ],
   "metadata": {
    "collapsed": false,
    "ExecuteTime": {
     "end_time": "2023-09-20T19:02:33.818476Z",
     "start_time": "2023-09-20T19:02:33.811288Z"
    }
   },
   "id": "a909ef02c211ab16"
  },
  {
   "cell_type": "code",
   "execution_count": 17,
   "outputs": [
    {
     "data": {
      "text/plain": "   neighbourhood_group    neighbourhood\n0                  NaN         Campbell\n1                  NaN        Cupertino\n2                  NaN           Gilroy\n3                  NaN        Los Altos\n4                  NaN  Los Altos Hills",
      "text/html": "<div>\n<style scoped>\n    .dataframe tbody tr th:only-of-type {\n        vertical-align: middle;\n    }\n\n    .dataframe tbody tr th {\n        vertical-align: top;\n    }\n\n    .dataframe thead th {\n        text-align: right;\n    }\n</style>\n<table border=\"1\" class=\"dataframe\">\n  <thead>\n    <tr style=\"text-align: right;\">\n      <th></th>\n      <th>neighbourhood_group</th>\n      <th>neighbourhood</th>\n    </tr>\n  </thead>\n  <tbody>\n    <tr>\n      <th>0</th>\n      <td>NaN</td>\n      <td>Campbell</td>\n    </tr>\n    <tr>\n      <th>1</th>\n      <td>NaN</td>\n      <td>Cupertino</td>\n    </tr>\n    <tr>\n      <th>2</th>\n      <td>NaN</td>\n      <td>Gilroy</td>\n    </tr>\n    <tr>\n      <th>3</th>\n      <td>NaN</td>\n      <td>Los Altos</td>\n    </tr>\n    <tr>\n      <th>4</th>\n      <td>NaN</td>\n      <td>Los Altos Hills</td>\n    </tr>\n  </tbody>\n</table>\n</div>"
     },
     "execution_count": 17,
     "metadata": {},
     "output_type": "execute_result"
    }
   ],
   "source": [
    "neighborhoods.head()"
   ],
   "metadata": {
    "collapsed": false,
    "ExecuteTime": {
     "end_time": "2023-09-20T19:22:53.591863Z",
     "start_time": "2023-09-20T19:22:53.585461Z"
    }
   },
   "id": "298467673125ff52"
  },
  {
   "cell_type": "code",
   "execution_count": 20,
   "outputs": [
    {
     "name": "stdout",
     "output_type": "stream",
     "text": [
      "neighbourhood_group\n",
      "[nan]\n",
      "neighbourhood\n",
      "['Campbell' 'Cupertino' 'Gilroy' 'Los Altos' 'Los Altos Hills' 'Los Gatos'\n",
      " 'Milpitas' 'Monte Sereno' 'Morgan Hill' 'Mountain View' 'Palo Alto'\n",
      " 'San Jose' 'Santa Clara' 'Saratoga' 'Sunnyvale' 'Unincorporated Areas']\n"
     ]
    }
   ],
   "source": [
    "for col in neighborhoods:\n",
    "    print(col)\n",
    "    print(neighborhoods[col].unique())"
   ],
   "metadata": {
    "collapsed": false,
    "ExecuteTime": {
     "end_time": "2023-09-20T19:25:53.314414Z",
     "start_time": "2023-09-20T19:25:53.310294Z"
    }
   },
   "id": "6bd50187fa48920f"
  },
  {
   "cell_type": "code",
   "execution_count": 22,
   "outputs": [
    {
     "data": {
      "text/plain": "   listing_id        date\n0        4952  2009-08-02\n1        4952  2009-09-04\n2        4952  2009-10-16\n3        4952  2009-12-10\n4        4952  2010-06-08",
      "text/html": "<div>\n<style scoped>\n    .dataframe tbody tr th:only-of-type {\n        vertical-align: middle;\n    }\n\n    .dataframe tbody tr th {\n        vertical-align: top;\n    }\n\n    .dataframe thead th {\n        text-align: right;\n    }\n</style>\n<table border=\"1\" class=\"dataframe\">\n  <thead>\n    <tr style=\"text-align: right;\">\n      <th></th>\n      <th>listing_id</th>\n      <th>date</th>\n    </tr>\n  </thead>\n  <tbody>\n    <tr>\n      <th>0</th>\n      <td>4952</td>\n      <td>2009-08-02</td>\n    </tr>\n    <tr>\n      <th>1</th>\n      <td>4952</td>\n      <td>2009-09-04</td>\n    </tr>\n    <tr>\n      <th>2</th>\n      <td>4952</td>\n      <td>2009-10-16</td>\n    </tr>\n    <tr>\n      <th>3</th>\n      <td>4952</td>\n      <td>2009-12-10</td>\n    </tr>\n    <tr>\n      <th>4</th>\n      <td>4952</td>\n      <td>2010-06-08</td>\n    </tr>\n  </tbody>\n</table>\n</div>"
     },
     "execution_count": 22,
     "metadata": {},
     "output_type": "execute_result"
    }
   ],
   "source": [
    "reviews.head()"
   ],
   "metadata": {
    "collapsed": false,
    "ExecuteTime": {
     "end_time": "2023-09-20T19:26:54.737591Z",
     "start_time": "2023-09-20T19:26:54.735914Z"
    }
   },
   "id": "39860f33ec7e81dc"
  },
  {
   "cell_type": "code",
   "execution_count": 21,
   "outputs": [
    {
     "name": "stdout",
     "output_type": "stream",
     "text": [
      "listing_id\n",
      "[    4952    11464    17884 ... 43560334 43624287 43652101]\n",
      "date\n",
      "['2009-08-02' '2009-09-04' '2009-10-16' ... '2020-04-27' '2020-04-20'\n",
      " '2020-05-04']\n"
     ]
    }
   ],
   "source": [
    "for col in reviews:\n",
    "    print(col)\n",
    "    print(reviews[col].unique())"
   ],
   "metadata": {
    "collapsed": false,
    "ExecuteTime": {
     "end_time": "2023-09-20T19:26:47.697631Z",
     "start_time": "2023-09-20T19:26:47.675416Z"
    }
   },
   "id": "18dfb920276b4bed"
  },
  {
   "cell_type": "code",
   "execution_count": null,
   "outputs": [],
   "source": [],
   "metadata": {
    "collapsed": false
   },
   "id": "fee6bf091231ac2a"
  }
 ],
 "metadata": {
  "kernelspec": {
   "display_name": "Python 3",
   "language": "python",
   "name": "python3"
  },
  "language_info": {
   "codemirror_mode": {
    "name": "ipython",
    "version": 2
   },
   "file_extension": ".py",
   "mimetype": "text/x-python",
   "name": "python",
   "nbconvert_exporter": "python",
   "pygments_lexer": "ipython2",
   "version": "2.7.6"
  }
 },
 "nbformat": 4,
 "nbformat_minor": 5
}
